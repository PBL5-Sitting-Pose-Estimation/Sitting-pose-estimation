{
  "cells": [
    {
      "cell_type": "markdown",
      "metadata": {
        "id": "IfQ3xP6-EY5r"
      },
      "source": [
        "# **Preparation**"
      ]
    },
    {
      "cell_type": "markdown",
      "metadata": {
        "id": "Jpy4A1Vpi9jH"
      },
      "source": [
        "## Import library"
      ]
    },
    {
      "cell_type": "code",
      "execution_count": 4,
      "metadata": {
        "id": "PWlbrkMCx-W-"
      },
      "outputs": [],
      "source": [
        "# !pip install -q opencv-python"
      ]
    },
    {
      "cell_type": "code",
      "execution_count": 6,
      "metadata": {
        "id": "KTkttSWnUi1Q"
      },
      "outputs": [],
      "source": [
        "import csv\n",
        "import cv2\n",
        "import itertools\n",
        "import numpy as np\n",
        "import pandas as pd\n",
        "import os\n",
        "import sys\n",
        "import tempfile\n",
        "import tqdm\n",
        "import math\n",
        "import numpy.linalg as LA\n",
        "\n",
        "from matplotlib import pyplot as plt\n",
        "from matplotlib.collections import LineCollection\n",
        "\n",
        "import tensorflow as tf\n",
        "import tensorflow_hub as hub\n",
        "from tensorflow import keras\n",
        "from keras import backend as K\n",
        "\n",
        "from sklearn.model_selection import train_test_split\n",
        "from sklearn.metrics import accuracy_score, classification_report, confusion_matrix"
      ]
    },
    {
      "cell_type": "markdown",
      "metadata": {
        "id": "dH_yWnJ9QRLs"
      },
      "source": [
        "## Code to run pose estimation using MoveNet"
      ]
    },
    {
      "cell_type": "code",
      "execution_count": null,
      "metadata": {
        "colab": {
          "base_uri": "https://localhost:8080/"
        },
        "id": "PUGTJ5XRTP7W",
        "outputId": "14cbe41b-8f46-4554-8b78-5e900a78b735"
      },
      "outputs": [],
      "source": [
        "# # Download model from TF Hub and check out inference code from GitHub\n",
        "# # Model movenet\n",
        "# !wget -q -O movenet_thunder.tflite https://tfhub.dev/google/lite-model/movenet/singlepose/thunder/tflite/float16/4?lite-format=tflite\n",
        "\n",
        "# # Github tensorflow (có chứa thư viện utils, data, ml...)\n",
        "# !git clone https://github.com/tensorflow/examples.git\n"
      ]
    },
    {
      "cell_type": "markdown",
      "metadata": {
        "id": "aN-W7SEpnLoe"
      },
      "source": [
        "#### Load MoveNet Thunder model"
      ]
    },
    {
      "cell_type": "code",
      "execution_count": 7,
      "metadata": {
        "id": "48kW1c2F5l1R"
      },
      "outputs": [],
      "source": [
        "from pose_estimation import utils\n",
        "from pose_estimation.data import BodyPart\n",
        "from pose_estimation.ml import Movenet\n",
        "movenet = Movenet('movenet_thunder')\n",
        "\n",
        "# Gọi hàm nhận dạng của movenet nhiều lần để cải thiện độ chính xác nhận dạng khung xương\n",
        "def detect(input_tensor, inference_count=3):\n",
        "  \"\"\"Runs detection on an input image.\n",
        " \n",
        "  Args:\n",
        "    input_tensor: A [height, width, 3] Tensor of type tf.float32.\n",
        "    inference_count: Số lần lặp.\n",
        " \n",
        "  Returns:\n",
        "    A Person entity detected by the MoveNet.SinglePose.\n",
        "  \"\"\"\n",
        "  image_height, image_width, channel = input_tensor.shape\n",
        " \n",
        "  # Detect pose using the full input image\n",
        "  movenet.detect(input_tensor.numpy(), reset_crop_region=True)\n",
        " \n",
        "  # Repeatedly using previous detection result to identify the region of\n",
        "  # interest and only croping that region to improve detection accuracy\n",
        "  for _ in range(inference_count - 1):\n",
        "    person = movenet.detect(input_tensor.numpy(), \n",
        "                            reset_crop_region=False)\n",
        "\n",
        "\n",
        "  return person"
      ]
    },
    {
      "cell_type": "code",
      "execution_count": null,
      "metadata": {},
      "outputs": [],
      "source": [
        "imgPath = \"./Image/_/output4_0330.png\"\n",
        "image = tf.io.read_file(imgPath)\n",
        "img = tf.io.decode_jpeg(image)\n",
        "pers = detect(img)"
      ]
    },
    {
      "cell_type": "markdown",
      "metadata": {
        "id": "pNiIeG5PnUHm"
      },
      "source": [
        "#### Trực quan hoá kết quả nhận dạng khung xương"
      ]
    },
    {
      "cell_type": "code",
      "execution_count": 8,
      "metadata": {
        "id": "fKo0NzwQJ5Rm"
      },
      "outputs": [],
      "source": [
        "def draw_prediction_on_image(\n",
        "    image, person, crop_region=None, close_figure=True,\n",
        "    keep_input_size=False):\n",
        "  \"\"\"Draws the keypoint predictions on image.\n",
        " \n",
        "  Args:\n",
        "    image: An numpy array with shape [height, width, channel] representing the\n",
        "      pixel values of the input image.\n",
        "    person: A person entity returned from the MoveNet.SinglePose model.\n",
        "    close_figure: Whether to close the plt figure after the function returns.\n",
        "    keep_input_size: Whether to keep the size of the input image.\n",
        " \n",
        "  Returns:\n",
        "    An numpy array with shape [out_height, out_width, channel] representing the\n",
        "    image overlaid with keypoint predictions.\n",
        "  \"\"\"\n",
        "  # Draw the detection result on top of the image.\n",
        "  image_np = utils.visualize(image, [person])\n",
        "  \n",
        "  # Plot the image with detection results.\n",
        "  height, width, channel = image.shape\n",
        "  aspect_ratio = float(width) / height\n",
        "  fig, ax = plt.subplots(figsize=(12 * aspect_ratio, 12))\n",
        "  im = ax.imshow(image_np)\n",
        " \n",
        "  if close_figure:\n",
        "    plt.close(fig)\n",
        " \n",
        "  if not keep_input_size:\n",
        "    image_np = utils.keep_aspect_ratio_resizer(image_np, (512, 512))\n",
        "\n",
        "  return image_np"
      ]
    },
    {
      "cell_type": "markdown",
      "metadata": {
        "id": "dVn3fgInndqY"
      },
      "source": [
        "#### Code to load the images, detect pose landmarks and save them into a CSV file"
      ]
    },
    {
      "cell_type": "code",
      "execution_count": null,
      "metadata": {
        "id": "QUkOW_26S6K-"
      },
      "outputs": [],
      "source": [
        "class MoveNetPreprocessor(object): \n",
        "  def __init__(self,\n",
        "               images_in_folder,\n",
        "               images_out_folder,\n",
        "               csvs_out_path):\n",
        "    \"\"\"Creates a preprocessor to detection pose from images and save as CSV.\n",
        "\n",
        "    Args:\n",
        "      images_in_folder: Path to the folder with the input images. It has structure:\n",
        "        \n",
        "        train/test\n",
        "        |__ humpbacked\n",
        "            |______ 00000128.jpg\n",
        "            |______ 00000181.bmp\n",
        "            |______ ...\n",
        "        |__ leaning back\n",
        "            |______ 00000243.jpg\n",
        "            |______ 00000306.jpg\n",
        "            |______ ...\n",
        "        ...\n",
        "\n",
        "      images_out_folder: Path to write detected landmarks\n",
        "\n",
        "      csvs_out_path: Path to write the CSV containing the detected landmark\n",
        "        coordinates and label of each image that can be used to train a pose\n",
        "        classification model.\n",
        "    \"\"\"\n",
        "    self._images_in_folder = images_in_folder\n",
        "    self._images_out_folder = images_out_folder\n",
        "    self._csvs_out_path = csvs_out_path\n",
        "    self._messages = []\n",
        "\n",
        "    # Create a temp dir to store the pose CSVs per class\n",
        "    self._csvs_out_folder_per_class = tempfile.mkdtemp()\n",
        " \n",
        "    # Get list of pose classes\n",
        "    self._pose_class_names = sorted(\n",
        "        [n for n in os.listdir(self._images_in_folder)]\n",
        "        )\n",
        "    \n",
        "  def process(self, per_pose_class_limit=None, detection_threshold=0.1):\n",
        "    \"\"\"Preprocesses images in the given folder.\n",
        "    Args:\n",
        "      per_pose_class_limit: Number of images to load in each class directory. \n",
        "      detection_threshold: Only keep images with all landmark confidence score\n",
        "        above this threshold.\n",
        "    \"\"\"\n",
        "    # Loop through the class directory and preprocess its images\n",
        "    for pose_class_name in self._pose_class_names:\n",
        "      print('Preprocessing', pose_class_name, file=sys.stderr)\n",
        "\n",
        "      # Paths for the pose class.\n",
        "      images_in_folder = os.path.join(self._images_in_folder, pose_class_name)    # Tạo đường dẫn\n",
        "      images_out_folder = os.path.join(self._images_out_folder, pose_class_name)\n",
        "      csv_out_path = os.path.join(self._csvs_out_folder_per_class,\n",
        "                                  pose_class_name + '.csv')\n",
        "      if not os.path.exists(images_out_folder):\n",
        "        os.makedirs(images_out_folder)\n",
        " \n",
        "      # Detect landmarks in each image and write it to a CSV file\n",
        "      with open(csv_out_path, 'w') as csv_out_file:\n",
        "        csv_out_writer = csv.writer(csv_out_file, \n",
        "                                    delimiter=',', \n",
        "                                    quoting=csv.QUOTE_MINIMAL)\n",
        "        # Get list of images\n",
        "        image_names = sorted(\n",
        "            [n for n in os.listdir(images_in_folder) if not n.startswith('.')])\n",
        "        if per_pose_class_limit is not None:\n",
        "          image_names = image_names[:per_pose_class_limit]\n",
        "\n",
        "        valid_image_count = 0\n",
        " \n",
        "        # Detect pose landmarks from each image\n",
        "        for image_name in tqdm.tqdm(image_names):\n",
        "          image_path = os.path.join(images_in_folder, image_name)\n",
        "\n",
        "          try:\n",
        "            image = tf.io.read_file(image_path)\n",
        "            image = tf.io.decode_jpeg(image)\n",
        "          except:\n",
        "            self._messages.append('Skipped ' + image_path + '. Invalid image.')\n",
        "            continue\n",
        "          else:\n",
        "            image = tf.io.read_file(image_path)\n",
        "            image = tf.io.decode_jpeg(image)\n",
        "            image_height, image_width, channel = image.shape\n",
        "          \n",
        "          # Skip images that isn't RGB because Movenet requires RGB images\n",
        "          if channel != 3:\n",
        "            self._messages.append('Skipped ' + image_path +\n",
        "                                  '. Image isn\\'t in RGB format.')\n",
        "            continue\n",
        "          person = detect(image)\n",
        "          \n",
        "          # Save landmarks if all landmarks were detected\n",
        "          min_landmark_score = min(\n",
        "              [keypoint.score for keypoint in person.keypoints])\n",
        "          should_keep_image = min_landmark_score >= detection_threshold\n",
        "          if not should_keep_image:\n",
        "            self._messages.append('Skipped ' + image_path +\n",
        "                                  '. No pose was confidentlly detected.')\n",
        "            continue\n",
        "\n",
        "          valid_image_count += 1\n",
        "\n",
        "          # Draw the prediction result on top of the image for debugging later\n",
        "          output_overlay = draw_prediction_on_image(\n",
        "              image.numpy().astype(np.uint8), person, \n",
        "              close_figure=True, keep_input_size=True)\n",
        "        \n",
        "          # Write detection result into an image file\n",
        "          output_frame = cv2.cvtColor(output_overlay, cv2.COLOR_RGB2BGR)\n",
        "          cv2.imwrite(os.path.join(images_out_folder, image_name), output_frame)\n",
        "        \n",
        "          # Get landmarks and scale it to the same size as the input image\n",
        "          pose_landmarks = np.array(\n",
        "              [[keypoint.coordinate.x, keypoint.coordinate.y, keypoint.score]\n",
        "                for keypoint in person.keypoints],\n",
        "              dtype=np.float32)\n",
        "\n",
        "          # Write the landmark coordinates to its per-class CSV file\n",
        "          coordinates = pose_landmarks.flatten().astype(str).tolist()\n",
        "          csv_out_writer.writerow([image_name] + coordinates)\n",
        "\n",
        "        if not valid_image_count:\n",
        "          raise RuntimeError(\n",
        "              'No valid images found for the \"{}\" class.'\n",
        "              .format(pose_class_name))\n",
        "      \n",
        "    # Print the error message collected during preprocessing.\n",
        "    print('\\n'.join(self._messages))\n",
        "\n",
        "    # Combine all per-class CSVs into a single output file\n",
        "    all_landmarks_df = self._all_landmarks_as_dataframe()\n",
        "    all_landmarks_df.to_csv(self._csvs_out_path, index=False)\n",
        "\n",
        "  def class_names(self):\n",
        "    \"\"\"List of classes found in the training dataset.\"\"\"\n",
        "    return self._pose_class_names\n",
        "  \n",
        "  def _all_landmarks_as_dataframe(self):\n",
        "    \"\"\"Merge all per-class CSVs into a single dataframe.\"\"\"\n",
        "    total_df = None\n",
        "    for class_index, class_name in enumerate(self._pose_class_names):\n",
        "      csv_out_path = os.path.join(self._csvs_out_folder_per_class,\n",
        "                                  class_name + '.csv')\n",
        "      per_class_df = pd.read_csv(csv_out_path, header=None)\n",
        "      \n",
        "      # Add the labels\n",
        "      per_class_df['class_no'] = [class_index]*len(per_class_df)\n",
        "      per_class_df['class_name'] = [class_name]*len(per_class_df)\n",
        "\n",
        "      # Append the folder name to the filename column (first column)\n",
        "      per_class_df[per_class_df.columns[0]] = (os.path.join(class_name, '') \n",
        "        + per_class_df[per_class_df.columns[0]].astype(str))\n",
        "\n",
        "      if total_df is None:\n",
        "        # For the first class, assign its data to the total dataframe\n",
        "        total_df = per_class_df\n",
        "      else:\n",
        "        # Concatenate each class's data into the total dataframe\n",
        "        total_df = pd.concat([total_df, per_class_df], axis=0)\n",
        " \n",
        "    list_name = [[bodypart.name + '_x', bodypart.name + '_y', \n",
        "                  bodypart.name + '_score'] for bodypart in BodyPart] \n",
        "    \n",
        "    # Đổi tên cột dataframe\n",
        "    header_name = []\n",
        "    for columns_name in list_name:\n",
        "      header_name += columns_name\n",
        "    header_name = ['file_name'] + header_name\n",
        "    header_map = {total_df.columns[i]: header_name[i] \n",
        "                  for i in range(len(header_name))}\n",
        " \n",
        "    total_df.rename(header_map, axis=1, inplace=True)\n",
        "\n",
        "    return total_df"
      ]
    },
    {
      "cell_type": "markdown",
      "metadata": {
        "id": "YvA67LZDnijz"
      },
      "source": [
        "#### Test pose estimate"
      ]
    },
    {
      "cell_type": "markdown",
      "metadata": {
        "id": "L24GWhgo4WAl"
      },
      "source": [
        "# **Part 1: Preprocess the input images**"
      ]
    },
    {
      "cell_type": "markdown",
      "metadata": {
        "id": "TJXSR2CQhm-z"
      },
      "source": [
        "### Upload your own pose dataset"
      ]
    },
    {
      "cell_type": "code",
      "execution_count": null,
      "metadata": {
        "id": "iEnjgeKeS_VP"
      },
      "outputs": [],
      "source": [
        "dataset_is_split = True #@param [\"False\", \"True\"] {type:\"raw\"}"
      ]
    },
    {
      "cell_type": "markdown",
      "metadata": {
        "id": "YiqF3sRf3LLC"
      },
      "source": [
        "\n",
        "  If you've already split your dataset into train and test sets, then set `dataset_is_split` to **True**. \n",
        "  That is, your images folder must include \"train\" and \"test\" directories like this:\n",
        "```\n",
        "    sittingPoses/\n",
        "    |__ train/\n",
        "        |__ humpbacked/\n",
        "            |______ 00000128.jpg\n",
        "            |______ ...\n",
        "        |__ leaning back/\n",
        "            |______ 00000180.jpg\n",
        "            |______ ...\n",
        "    |__ test/\n",
        "        |__ leaning back/\n",
        "            |______ 00000181.jpg\n",
        "            |______ ...\n",
        "```\n",
        "\n",
        "Or, if your dataset is NOT split yet, then set\n",
        "`dataset_is_split` to **False** and we'll split it up based\n",
        "on a specified split fraction. That is, your uploaded images\n",
        "folder should look like this:\n",
        "\n",
        "```    \n",
        "    sittingPoses/\n",
        "    |__ humpbacked/\n",
        "        |______ 00000128.jpg\n",
        "        |______ 00000181.jpg\n",
        "        |______ ...\n",
        "    |__ leaning back/\n",
        "        |______ 00000243.jpg\n",
        "        |______ 00000306.jpg\n",
        "        |______ ...\n",
        "```"
      ]
    },
    {
      "cell_type": "markdown",
      "metadata": {
        "id": "BoXaN5nUeU8d"
      },
      "source": [
        "### Phân chia tập dữ liệu"
      ]
    },
    {
      "cell_type": "code",
      "execution_count": null,
      "metadata": {
        "id": "joAHy_r62dsI"
      },
      "outputs": [],
      "source": [
        "import os\n",
        "import random\n",
        "import shutil\n",
        "\n",
        "def split_into_train_test(images_origin, images_dest, test_split):\n",
        "  \"\"\"Splits a directory of sorted images into training and test sets.\n",
        "\n",
        "  Args:\n",
        "    images_origin: Path to the directory with your images. This directory\n",
        "      must include subdirectories for each of your labeled classes.\n",
        "\n",
        "    images_dest: Path to a directory where you want the split dataset to be\n",
        "      saved\n",
        "\n",
        "    test_split: Fraction of data to reserve for test (float between 0 and 1).\n",
        "  \"\"\"\n",
        "  _, dirs, _ = next(os.walk(images_origin))\n",
        "\n",
        "  TRAIN_DIR = os.path.join(images_dest, 'train')\n",
        "  TEST_DIR = os.path.join(images_dest, 'test')\n",
        "  os.makedirs(TRAIN_DIR, exist_ok=True)\n",
        "  os.makedirs(TEST_DIR, exist_ok=True)\n",
        "\n",
        "  for dir in dirs:\n",
        "    # Get all filenames for this dir, filtered by filetype\n",
        "    filenames = os.listdir(os.path.join(images_origin, dir))\n",
        "    filenames = [os.path.join(images_origin, dir, f) for f in filenames if (\n",
        "        f.endswith('.png') or f.endswith('.jpg') or f.endswith('.jpeg') or f.endswith('.bmp'))]\n",
        "    # Shuffle the files, deterministically\n",
        "    filenames.sort()\n",
        "    random.seed(42)\n",
        "    random.shuffle(filenames)\n",
        "    # Divide them into train/test dirs\n",
        "    os.makedirs(os.path.join(TEST_DIR, dir), exist_ok=True)\n",
        "    os.makedirs(os.path.join(TRAIN_DIR, dir), exist_ok=True)\n",
        "    test_count = int(len(filenames) * test_split)\n",
        "    for i, file in enumerate(filenames):\n",
        "      if i < test_count:\n",
        "        destination = os.path.join(TEST_DIR, dir, os.path.split(file)[1])\n",
        "      else:\n",
        "        destination = os.path.join(TRAIN_DIR, dir, os.path.split(file)[1])\n",
        "      shutil.copyfile(file, destination)\n",
        "    print(f'Moved {test_count} of {len(filenames)} from class \"{dir}\" into test.')\n",
        "  print(f'Your split dataset is in \"{images_dest}\"')"
      ]
    },
    {
      "cell_type": "code",
      "execution_count": null,
      "metadata": {
        "id": "IfpNIjAmR0lp"
      },
      "outputs": [],
      "source": [
        "# You can leave the rest alone:\n",
        "dataset_in = './image_new'\n",
        "if not os.path.isdir(dataset_in):\n",
        "  raise Exception(\"dataset_in is not a valid directory\")\n",
        "if dataset_is_split:\n",
        "  IMAGES_ROOT = dataset_in\n",
        "else:\n",
        "  dataset_out = dataset_in + '_split'\n",
        "  split_into_train_test(dataset_in, dataset_out, test_split=0.2)\n",
        "  IMAGES_ROOT = dataset_out"
      ]
    },
    {
      "cell_type": "markdown",
      "metadata": {
        "id": "IPkTA5-sNF7W"
      },
      "source": [
        "**Note:** If you're using `split_into_train_test()` to split the dataset, it expects all images to be PNG, JPEG, or BMP—it ignores other file types."
      ]
    },
    {
      "cell_type": "code",
      "execution_count": null,
      "metadata": {},
      "outputs": [],
      "source": [
        "isProcessed = True"
      ]
    },
    {
      "cell_type": "code",
      "execution_count": null,
      "metadata": {},
      "outputs": [],
      "source": [
        "if isProcessed:\n",
        "    pass\n",
        "else:\n",
        "    # Nhat\n",
        "    preprocessor1 = MoveNetPreprocessor(\n",
        "        images_in_folder = os.path.join(IMAGES_ROOT, 'Nhat'),\n",
        "        images_out_folder = '',\n",
        "        csvs_out_path = 'N.csv'\n",
        "    )\n",
        "    # Thuc Nhi\n",
        "    preprocessor2 = MoveNetPreprocessor(\n",
        "        images_in_folder = os.path.join(IMAGES_ROOT, 'Thuc Nhi'),\n",
        "        images_out_folder = '',\n",
        "        csvs_out_path = 'TN.csv'\n",
        "    )\n",
        "    # Khoi\n",
        "    preprocessor3 = MoveNetPreprocessor(\n",
        "        images_in_folder = os.path.join(IMAGES_ROOT, 'Khoi'),\n",
        "        images_out_folder = '',\n",
        "        csvs_out_path = 'K.csv'\n",
        "    )\n",
        "    # Hoan\n",
        "    preprocessor4 = MoveNetPreprocessor(\n",
        "        images_in_folder = os.path.join(IMAGES_ROOT, 'Hoan'),\n",
        "        images_out_folder = '',\n",
        "        csvs_out_path = 'H.csv'\n",
        "    )\n",
        "\n",
        "    preprocessor1.process(per_pose_class_limit=None)\n",
        "    preprocessor2.process(per_pose_class_limit=None)\n",
        "    preprocessor3.process(per_pose_class_limit=None)\n",
        "    preprocessor4.process(per_pose_class_limit=None)\n"
      ]
    },
    {
      "cell_type": "markdown",
      "metadata": {
        "id": "UevEKViRT_6J"
      },
      "source": [
        "# **Part 2: Train a pose classification model that takes the landmark coordinates as input, and output the predicted labels.**\n",
        "\n",
        "You'll build a TensorFlow model that takes the landmark coordinates and predicts the pose class that the person in the input image performs. The model consists of two submodels:\n",
        "\n",
        "* Submodel 1 calculates a pose embedding (a.k.a feature vector) from the detected landmark coordinates.\n",
        "* Submodel 2 feeds pose embedding through several `Dense` layer to predict the pose class.\n",
        "\n",
        "You'll then train the model based on the dataset that were preprocessed in part 1."
      ]
    },
    {
      "cell_type": "markdown",
      "metadata": {
        "id": "iGMcoSwLwRSD"
      },
      "source": [
        "### Load the preprocessed CSVs into `train` and `test` variables"
      ]
    },
    {
      "cell_type": "code",
      "execution_count": 14,
      "metadata": {
        "id": "pOUcc8EL5rrj"
      },
      "outputs": [],
      "source": [
        "def load_pose_landmarks(csv_path):\n",
        "  \"\"\"Loads a CSV created by MoveNetPreprocessor.\n",
        "  \n",
        "  Returns:\n",
        "    X: Detected landmark coordinates and scores of shape (N, 17 * 3)\n",
        "    y: Ground truth labels of shape (N, label_count)\n",
        "    classes: The list of all class names found in the dataset\n",
        "    dataframe: The CSV loaded as a Pandas dataframe features (X) and ground\n",
        "      truth labels (y) to use later to train a pose classification model.\n",
        "  \"\"\"\n",
        "  dataframe = pd.DataFrame()\n",
        "  for path in csv_path:\n",
        "    dataframe = pd.concat([dataframe, pd.read_csv(path)],\n",
        "                          axis=0, ignore_index=True)\n",
        "  # Load the CSV file\n",
        "\n",
        "  df_to_process = dataframe.copy()\n",
        "\n",
        "  # Drop the file_name columns as you don't need it during training.\n",
        "  df_to_process.drop(columns=['file_name'], inplace=True)\n",
        "\n",
        "  # Extract the list of class names\n",
        "  classes = df_to_process.pop('class_name').unique()\n",
        "\n",
        "  # Extract the labels\n",
        "  y = df_to_process.pop('class_no')\n",
        "\n",
        "  # Convert the input features and labels into the correct format for training.\n",
        "  X = df_to_process.astype('float64')\n",
        "  y = keras.utils.to_categorical(y)\n",
        "\n",
        "  return X, y, classes, dataframe"
      ]
    },
    {
      "cell_type": "markdown",
      "metadata": {
        "id": "ydb-bd_UWXMq"
      },
      "source": [
        "### Define functions to convert the pose landmarks to a pose embedding (a.k.a. feature vector) for pose classification\n",
        "\n",
        "Next, convert the landmark coordinates to a feature vector by:\n",
        "1. Moving the pose center to the origin.\n",
        "2. Scaling the pose so that the pose size becomes 1\n",
        "3. Flattening these coordinates into a feature vector\n",
        "\n",
        "Then use this feature vector to train a neural-network based pose classifier."
      ]
    },
    {
      "cell_type": "code",
      "execution_count": 52,
      "metadata": {
        "id": "HgQMdfeT65Z5"
      },
      "outputs": [],
      "source": [
        "def get_center_point(landmarks, left_bodypart, right_bodypart):\n",
        "    \"\"\"Calculates the center point of the two given landmarks.\"\"\"\n",
        "\n",
        "    left = tf.gather(landmarks, left_bodypart.value, axis=1)\n",
        "    right = tf.gather(landmarks, right_bodypart.value, axis=1)\n",
        "    center = left * 0.5 + right * 0.5\n",
        "    return center\n",
        "\n",
        "\n",
        "def get_pose_size(landmarks, torso_size_multiplier=2.5):\n",
        "    \"\"\"Calculates pose size.\n",
        "\n",
        "    It is the maximum of two values:\n",
        "      * Torso size multiplied by `torso_size_multiplier`\n",
        "      * Maximum distance from pose center to any pose landmark\n",
        "    \"\"\"\n",
        "    # Hips center\n",
        "    hips_center = get_center_point(landmarks, BodyPart.LEFT_HIP,\n",
        "                                   BodyPart.RIGHT_HIP)\n",
        "\n",
        "    # Shoulders center\n",
        "    shoulders_center = get_center_point(landmarks, BodyPart.LEFT_SHOULDER,\n",
        "                                        BodyPart.RIGHT_SHOULDER)\n",
        "\n",
        "    # Torso size as the minimum body size\n",
        "    torso_size = tf.linalg.norm(shoulders_center - hips_center)\n",
        "\n",
        "    # Pose center\n",
        "    pose_center_new = get_center_point(landmarks, BodyPart.LEFT_HIP,\n",
        "                                       BodyPart.RIGHT_HIP)\n",
        "    pose_center_new = tf.expand_dims(pose_center_new, axis=1)\n",
        "    # Broadcast the pose center to the same size as the landmark vector to\n",
        "    # perform substraction\n",
        "    pose_center_new = tf.broadcast_to(pose_center_new,\n",
        "                                      [tf.size(landmarks) // (17*2), 17, 2])\n",
        "\n",
        "    # Dist to pose center\n",
        "    d = tf.gather(landmarks - pose_center_new, 0, axis=0,\n",
        "                  name=\"dist_to_pose_center\")\n",
        "    # Max dist to pose center\n",
        "    max_dist = tf.reduce_max(tf.linalg.norm(d, axis=0))\n",
        "\n",
        "    # Normalize scale\n",
        "    pose_size = tf.maximum(torso_size * torso_size_multiplier, max_dist)\n",
        "\n",
        "    return pose_size\n",
        "\n",
        "\n",
        "def feature_pose(landmarks):\n",
        "    \"\"\"Normalizes the landmarks translation by moving the pose center to (0,0) and\n",
        "    scaling it to a constant pose size.\n",
        "    \"\"\"\n",
        "    pose_center = get_center_point(landmarks, BodyPart.LEFT_HIP,\n",
        "                                BodyPart.RIGHT_HIP)\n",
        "    pose_center = tf.expand_dims(pose_center, axis=1)\n",
        "    # Broadcast the pose center to the same size as the landmark vector to perform\n",
        "    # substraction\n",
        "    pose_center = tf.broadcast_to(pose_center,\n",
        "                                [tf.size(landmarks) // (17*2), 17, 2])\n",
        "    landmarks = landmarks - pose_center\n",
        "\n",
        "    # Scale the landmarks to a constant pose size\n",
        "    pose_size = get_pose_size(landmarks)\n",
        "\n",
        "    xVal = tf.gather(landmarks, BodyPart.RIGHT_KNEE.value, axis=1).numpy()[0]\n",
        "    tempList = landmarks.numpy().tolist()\n",
        "\n",
        "    if xVal[0] < 0:\n",
        "        for coordinate in tempList[0]:\n",
        "            coordinate[0] = -coordinate[0]\n",
        "        landmarks = tf.constant(tempList, dtype=np.float32)\n",
        "\n",
        "    landmarks /= pose_size\n",
        "\n",
        "    return landmarks\n",
        "\n",
        "\n",
        "def normalize_drop_score(landmarks_and_scores):\n",
        "    \"\"\"Converts the input landmarks into a pose embedding.\"\"\"\n",
        "    # Reshape the flat input into a matrix with shape=(17, 3)\n",
        "    reshaped_inputs = keras.layers.Reshape((17, 3))(landmarks_and_scores)\n",
        "\n",
        "    # Normalize landmarks 2D\n",
        "    norm_landmarks = feature_pose(reshaped_inputs[:, :, :2])\n",
        "\n",
        "    return norm_landmarks\n",
        "\n",
        "\n",
        "def angle_between_two_vector(a, b):\n",
        "    \"\"\" Returns the angle in radians between vectors 'v1' and 'v2'::\n",
        "\n",
        "            >>> angle_between((1, 0, 0), (0, 1, 0))\n",
        "            1.5707963267948966\n",
        "            >>> angle_between((1, 0, 0), (1, 0, 0))\n",
        "            0.0\n",
        "            >>> angle_between((1, 0, 0), (-1, 0, 0))\n",
        "            3.141592653589793\n",
        "    \"\"\"\n",
        "    inner = np.inner(a, b)\n",
        "    norms = LA.norm(a) * LA.norm(b)\n",
        "    cos = inner / norms\n",
        "    return np.arccos(np.clip(cos, -1.0, 1.0))\n",
        "\n",
        "\n",
        "def flatten(x):\n",
        "    return x.numpy().flatten()\n",
        "\n",
        "\n",
        "def angle_between_three_point(landmarks, bodypart1, bodypart2, bodypart3, isBodyPart=True):\n",
        "    if isBodyPart:\n",
        "        bodypart1 = tf.gather(landmarks, bodypart1.value, axis=1)\n",
        "        bodypart2 = tf.gather(landmarks, bodypart2.value, axis=1)\n",
        "        bodypart3 = tf.gather(landmarks, bodypart3.value, axis=1)\n",
        "\n",
        "    v21 = bodypart1 - bodypart2\n",
        "    v23 = bodypart3 - bodypart2\n",
        "\n",
        "    # đơn vị radian (góc đúng cả 2 bên)\n",
        "    return angle_between_two_vector(flatten(v21), flatten(v23))\n",
        "\n",
        "\n",
        "def feature_angle(landmarks):\n",
        "    center_ear = get_center_point(\n",
        "        landmarks, BodyPart.LEFT_EAR, BodyPart.RIGHT_EAR)\n",
        "    center_shoulder = get_center_point(\n",
        "        landmarks, BodyPart.LEFT_SHOULDER, BodyPart.RIGHT_SHOULDER)\n",
        "    center_hip = get_center_point(\n",
        "        landmarks, BodyPart.LEFT_HIP, BodyPart.RIGHT_HIP)\n",
        "\n",
        "    angle_ear_shoulder = angle_between_three_point(\n",
        "        landmarks, center_ear, center_shoulder, center_hip, False)\n",
        "\n",
        "    angle_left_torso_thighs = angle_between_three_point(\n",
        "        landmarks, BodyPart.LEFT_SHOULDER, BodyPart.LEFT_HIP, BodyPart.LEFT_KNEE)\n",
        "\n",
        "    angle_right_torso_thighs = angle_between_three_point(\n",
        "        landmarks, BodyPart.RIGHT_SHOULDER, BodyPart.RIGHT_HIP, BodyPart.RIGHT_KNEE)\n",
        "\n",
        "    angle_left_thighs_tibia = angle_between_three_point(\n",
        "        landmarks, BodyPart.LEFT_HIP, BodyPart.LEFT_KNEE, BodyPart.LEFT_ANKLE)\n",
        "\n",
        "    angle_right_thighs_tibia = angle_between_three_point(\n",
        "        landmarks, BodyPart.RIGHT_HIP, BodyPart.RIGHT_KNEE, BodyPart.RIGHT_ANKLE)\n",
        "    \n",
        "    backbone_vector = flatten(center_shoulder - center_hip)\n",
        "    horizontal_backbone_angle = angle_between_two_vector(backbone_vector, (1,0))\n",
        "\n",
        "    # print('angle between left torso and thighs: ',\n",
        "    #       np.rad2deg(angle_left_torso_thighs))\n",
        "\n",
        "    return [horizontal_backbone_angle*2, angle_ear_shoulder, angle_left_torso_thighs, angle_left_thighs_tibia, angle_right_torso_thighs, angle_right_thighs_tibia]\n",
        "\n",
        "\n",
        "def get_distance(landmarks, left, right):\n",
        "    left = tf.gather(landmarks, left.value, axis=1)\n",
        "    right = tf.gather(landmarks, right.value, axis=1)\n",
        "\n",
        "    vector2 = (right - left).numpy()[0] ** 2\n",
        "\n",
        "    return math.sqrt(vector2[0] + vector2[1])\n",
        "\n"
      ]
    },
    {
      "cell_type": "code",
      "execution_count": 55,
      "metadata": {},
      "outputs": [],
      "source": [
        "def data_preprocess_single(landmarks):\n",
        "    landmarks = normalize_drop_score(landmarks)\n",
        "    feature_vector = feature_angle(landmarks)\n",
        "    feature_vector.append(get_distance(landmarks, BodyPart.LEFT_SHOULDER, BodyPart.RIGHT_SHOULDER))\n",
        "    pose = feature_pose(landmarks).numpy().tolist()\n",
        "\n",
        "    unwanted = [BodyPart.LEFT_ELBOW.value, BodyPart.RIGHT_ELBOW.value, BodyPart.LEFT_WRIST.value, BodyPart.RIGHT_WRIST.value]\n",
        "    for index in sorted(unwanted, reverse = True): \n",
        "        del pose[0][index]\n",
        "\n",
        "    wanted_point = []\n",
        "\n",
        "    for item in pose[0]:\n",
        "        for i in item:\n",
        "            wanted_point.append(i)\n",
        "\n",
        "    feature_vector.extend(wanted_point)\n",
        "    # feature_vector = feature_pose(landmarks).numpy().flatten().tolist()\n",
        "    return feature_vector\n",
        "\n",
        "def data_preprocess(X: pd.DataFrame):\n",
        "    data = X.copy()\n",
        "    listFeature = []\n",
        "    for landmark in data.values:\n",
        "        landmark = tf.constant([landmark])\n",
        "        feature = data_preprocess_single(landmark)\n",
        "        listFeature.append(feature)\n",
        "\n",
        "    return pd.DataFrame(listFeature)"
      ]
    },
    {
      "cell_type": "markdown",
      "metadata": {},
      "source": [
        "### Define a Keras model for pose classification\n",
        "\n",
        "Our Keras model takes the detected pose landmarks, then calculates the pose embedding and predicts the pose class."
      ]
    },
    {
      "cell_type": "code",
      "execution_count": null,
      "metadata": {},
      "outputs": [],
      "source": [
        "# Define the model\n",
        "def trainModel(X_train, y_train, X_val, y_val, X_test, y_test, class_names):\n",
        "    inputs = tf.keras.Input(shape=(33))\n",
        "\n",
        "    layer = keras.layers.Dense(64, activation=tf.nn.relu6)(inputs)\n",
        "    layer = keras.layers.Dropout(0.5)(layer)\n",
        "    layer = keras.layers.Dense(32, activation=tf.nn.relu6)(layer)\n",
        "    layer = keras.layers.Dropout(0.5)(layer)\n",
        "    outputs = keras.layers.Dense(len(class_names), activation=\"softmax\")(layer)\n",
        "\n",
        "    model = tf.keras.Model(inputs, outputs)\n",
        "\n",
        "    model.summary()\n",
        "\n",
        "    model.compile(\n",
        "        optimizer='adam',\n",
        "        loss='categorical_crossentropy',\n",
        "        metrics=['accuracy']\n",
        "    )\n",
        "\n",
        "    # Add a checkpoint callback to store the checkpoint that has the highest\n",
        "    # validation accuracy.\n",
        "    checkpoint_path = \"weights.best.hdf5\"\n",
        "    checkpoint = keras.callbacks.ModelCheckpoint(checkpoint_path,\n",
        "                                monitor='val_accuracy',\n",
        "                                verbose=1,\n",
        "                                save_best_only=True,\n",
        "                                mode='max')\n",
        "    earlystopping = keras.callbacks.EarlyStopping(monitor='val_accuracy', \n",
        "                                                patience=20)\n",
        "\n",
        "    # Start training\n",
        "    history = model.fit(X_train, y_train,\n",
        "                        epochs=200,\n",
        "                        batch_size=16,\n",
        "                        validation_data=(X_val, y_val),\n",
        "                        callbacks=[checkpoint, earlystopping])\n",
        "\n",
        "\n",
        "    # Evaluate the model using the TEST dataset\n",
        "    loss, accuracy = model.evaluate(X_test, y_test)\n",
        "\n",
        "    trainLastAccuracy = history.history['accuracy'][len(history.history['accuracy']) - 1]\n",
        "    \n",
        "    validateLastAccuracy = history.history['val_accuracy'][len(\n",
        "        history.history['val_accuracy']) - 1]\n",
        "\n",
        "    return trainLastAccuracy, validateLastAccuracy, accuracy\n"
      ]
    },
    {
      "cell_type": "code",
      "execution_count": null,
      "metadata": {},
      "outputs": [],
      "source": [
        "# START CROSS-VALIDATION\n",
        "lstCsv = np.array(['N.csv', 'TN.csv', 'K.csv', 'H.csv'])\n",
        "lstAcc = []\n",
        "for testId, test in enumerate(lstCsv):\n",
        "    for validateId, validate in enumerate(np.delete(lstCsv, testId)):\n",
        "        train = np.delete(lstCsv, [testId, validateId])\n",
        "\n",
        "        X_train, y_train, class_names, _ = load_pose_landmarks(train)\n",
        "        X_val, y_val, _, _ = load_pose_landmarks(validate)\n",
        "        X_test, y_test, _, df_test = load_pose_landmarks(test)\n",
        "\n",
        "        X_train = data_preprocess(X_train)\n",
        "        X_val = data_preprocess(X_val)\n",
        "        X_test = data_preprocess(X_test)\n",
        "\n",
        "        train_acc, val_acc, test_acc = trainModel(\n",
        "            X_train, y_train, X_val, y_val, X_test, y_test, class_names)\n",
        "            \n",
        "        lstAcc.append([train_acc, val_acc, test_acc])\n",
        "\n",
        "print(pd.Dataframe([lstAcc]))"
      ]
    },
    {
      "cell_type": "code",
      "execution_count": 21,
      "metadata": {},
      "outputs": [
        {
          "name": "stdout",
          "output_type": "stream",
          "text": [
            "[2]\n",
            "[1 2 3]\n"
          ]
        }
      ],
      "source": [
        "import numpy as np\n",
        "lst = np.array([1,2,3])\n",
        "a = np.delete(lst, [0,2])\n",
        "print(a)\n",
        "print(lst)"
      ]
    },
    {
      "cell_type": "markdown",
      "metadata": {
        "id": "uhY0VeDkFK7W"
      },
      "source": [
        "# **Part 3: Convert the pose classification model to TensorFlow Lite**\n",
        "\n",
        "You'll convert the Keras pose classification model to the TensorFlow Lite format so that you can deploy it to mobile apps, web browsers and edge devices. When converting the model, you'll apply [dynamic range quantization](https://www.tensorflow.org/lite/performance/post_training_quant) to reduce the pose classification TensorFlow Lite model size by about 4 times with insignificant accuracy loss.\n",
        "\n",
        "Note: TensorFlow Lite supports multiple quantization schemes. See the [documentation](https://www.tensorflow.org/lite/performance/model_optimization) if you are interested to learn more."
      ]
    },
    {
      "cell_type": "code",
      "execution_count": null,
      "metadata": {
        "id": "FmwEAgi2Flb3"
      },
      "outputs": [
        {
          "name": "stderr",
          "output_type": "stream",
          "text": [
            "WARNING:absl:Found untraced functions such as _update_step_xla while saving (showing 1 of 1). These functions will not be directly callable after loading.\n"
          ]
        },
        {
          "name": "stdout",
          "output_type": "stream",
          "text": [
            "INFO:tensorflow:Assets written to: C:\\Users\\DELL\\AppData\\Local\\Temp\\tmpkvw42hup\\assets\n"
          ]
        },
        {
          "name": "stderr",
          "output_type": "stream",
          "text": [
            "INFO:tensorflow:Assets written to: C:\\Users\\DELL\\AppData\\Local\\Temp\\tmpkvw42hup\\assets\n"
          ]
        },
        {
          "name": "stdout",
          "output_type": "stream",
          "text": [
            "Model size: 16KB\n"
          ]
        }
      ],
      "source": [
        "converter = tf.lite.TFLiteConverter.from_keras_model(model)\n",
        "converter.optimizations = [tf.lite.Optimize.DEFAULT]\n",
        "tflite_model = converter.convert()\n",
        "\n",
        "print('Model size: %dKB' % (len(tflite_model) / 1024))\n",
        "\n",
        "with open('pose_classifier.tflite', 'wb') as f:\n",
        "  f.write(tflite_model)"
      ]
    },
    {
      "cell_type": "markdown",
      "metadata": {
        "id": "XUOQwuBP6jMH"
      },
      "source": [
        "Then you'll write the label file which contains mapping from the class indexes to the human readable class names."
      ]
    },
    {
      "cell_type": "code",
      "execution_count": null,
      "metadata": {
        "id": "ZVW9j5vF6hBM"
      },
      "outputs": [],
      "source": [
        "with open('pose_labels.txt', 'w') as f:\n",
        "  f.write('\\n'.join(class_names))"
      ]
    },
    {
      "cell_type": "markdown",
      "metadata": {
        "id": "H4T0HFGCve-Y"
      },
      "source": [
        "As you've applied quantization to reduce the model size, let's evaluate the quantized TFLite model to check whether the accuracy drop is acceptable."
      ]
    },
    {
      "cell_type": "code",
      "execution_count": null,
      "metadata": {
        "id": "rv4fZFNcsN-1"
      },
      "outputs": [
        {
          "name": "stdout",
          "output_type": "stream",
          "text": [
            "Accuracy of TFLite model: 0.9104354971240756\n"
          ]
        }
      ],
      "source": [
        "def evaluate_model(interpreter, X, y_true):\n",
        "  \"\"\"Evaluates the given TFLite model and return its accuracy.\"\"\"\n",
        "  input_index = interpreter.get_input_details()[0][\"index\"]\n",
        "  output_index = interpreter.get_output_details()[0][\"index\"]\n",
        "\n",
        "  # Run predictions on all given poses.\n",
        "  y_pred = []\n",
        "  for i in range(len(y_true)):\n",
        "    # Pre-processing: add batch dimension and convert to float32 to match with\n",
        "    # the model's input data format.\n",
        "    test_image = X[i: i + 1].astype('float32')\n",
        "    interpreter.set_tensor(input_index, test_image)\n",
        "\n",
        "    # Run inference.\n",
        "    interpreter.invoke()\n",
        "\n",
        "    # Post-processing: remove batch dimension and find the class with highest\n",
        "    # probability.\n",
        "    output = interpreter.tensor(output_index)\n",
        "    predicted_label = np.argmax(output()[0])\n",
        "    y_pred.append(predicted_label)\n",
        "\n",
        "  # Compare prediction results with ground truth labels to calculate accuracy.\n",
        "  y_pred = keras.utils.to_categorical(y_pred)\n",
        "  return accuracy_score(y_true, y_pred)\n",
        "\n",
        "# Evaluate the accuracy of the converted TFLite model\n",
        "classifier_interpreter = tf.lite.Interpreter(model_content=tflite_model)\n",
        "classifier_interpreter.allocate_tensors()\n",
        "print('Accuracy of TFLite model: %s' %\n",
        "      evaluate_model(classifier_interpreter, X_test, y_test))"
      ]
    },
    {
      "cell_type": "markdown",
      "metadata": {
        "id": "-HWqcersePiY"
      },
      "source": [
        "Now you can download the TFLite model (`pose_classifier.tflite`) and the label file (`pose_labels.txt`) to classify custom poses. See the [Android](https://github.com/tensorflow/examples/tree/master/lite/examples/pose_estimation/android) and [Python/Raspberry Pi](https://github.com/tensorflow/examples/tree/master/lite/examples/pose_estimation/raspberry_pi) sample app for an end-to-end example of how to use the TFLite pose classification model."
      ]
    },
    {
      "cell_type": "code",
      "execution_count": null,
      "metadata": {
        "id": "KvcM_LkApOT3"
      },
      "outputs": [
        {
          "name": "stderr",
          "output_type": "stream",
          "text": [
            "'zip' is not recognized as an internal or external command,\n",
            "operable program or batch file.\n"
          ]
        }
      ],
      "source": [
        "!zip pose_classifier.zip pose_labels.txt pose_classifier.tflite"
      ]
    },
    {
      "cell_type": "code",
      "execution_count": null,
      "metadata": {
        "id": "VQ-i27VypI1u"
      },
      "outputs": [],
      "source": [
        "# Download the zip archive if running on Colab.\n",
        "try:\n",
        "  from google.colab import files\n",
        "  files.download('pose_classifier.zip')\n",
        "except:\n",
        "  pass"
      ]
    }
  ],
  "metadata": {
    "colab": {
      "collapsed_sections": [
        "IfQ3xP6-EY5r",
        "Jpy4A1Vpi9jH",
        "dH_yWnJ9QRLs",
        "aN-W7SEpnLoe",
        "pNiIeG5PnUHm",
        "dVn3fgInndqY",
        "YvA67LZDnijz",
        "L24GWhgo4WAl",
        "TJXSR2CQhm-z",
        "BoXaN5nUeU8d",
        "vxOkXvm-TvOZ",
        "cQtgAeHVT0UE",
        "UevEKViRT_6J",
        "E2D1czPJazvb",
        "iGMcoSwLwRSD",
        "ydb-bd_UWXMq",
        "PI7Wb3Bagau3",
        "JPnPmwjn9452",
        "uhY0VeDkFK7W"
      ],
      "provenance": []
    },
    "gpuClass": "standard",
    "kernelspec": {
      "display_name": "Python 3",
      "name": "python3"
    },
    "language_info": {
      "codemirror_mode": {
        "name": "ipython",
        "version": 3
      },
      "file_extension": ".py",
      "mimetype": "text/x-python",
      "name": "python",
      "nbconvert_exporter": "python",
      "pygments_lexer": "ipython3",
      "version": "3.10.11"
    }
  },
  "nbformat": 4,
  "nbformat_minor": 0
}
