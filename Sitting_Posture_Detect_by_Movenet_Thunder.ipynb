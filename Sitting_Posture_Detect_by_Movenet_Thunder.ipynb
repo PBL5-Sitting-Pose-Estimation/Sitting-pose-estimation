{
  "cells": [
    {
      "cell_type": "markdown",
      "metadata": {
        "id": "IfQ3xP6-EY5r"
      },
      "source": [
        "# **Preparation**"
      ]
    },
    {
      "cell_type": "markdown",
      "metadata": {
        "id": "Jpy4A1Vpi9jH"
      },
      "source": [
        "## Import library"
      ]
    },
    {
      "cell_type": "code",
      "execution_count": 4,
      "metadata": {
        "id": "PWlbrkMCx-W-"
      },
      "outputs": [],
      "source": [
        "# !pip install -q opencv-python"
      ]
    },
    {
      "cell_type": "code",
      "execution_count": 6,
      "metadata": {
        "id": "KTkttSWnUi1Q"
      },
      "outputs": [],
      "source": [
        "import csv\n",
        "import cv2\n",
        "import itertools\n",
        "import numpy as np\n",
        "import pandas as pd\n",
        "import os\n",
        "import sys\n",
        "import tempfile\n",
        "import tqdm\n",
        "import math\n",
        "import numpy.linalg as LA\n",
        "\n",
        "from matplotlib import pyplot as plt\n",
        "from matplotlib.collections import LineCollection\n",
        "\n",
        "import tensorflow as tf\n",
        "import tensorflow_hub as hub\n",
        "from tensorflow import keras\n",
        "from keras import backend as K\n",
        "\n",
        "from sklearn.model_selection import train_test_split\n",
        "from sklearn.metrics import accuracy_score, classification_report, confusion_matrix"
      ]
    },
    {
      "cell_type": "markdown",
      "metadata": {
        "id": "dH_yWnJ9QRLs"
      },
      "source": [
        "## Code to run pose estimation using MoveNet"
      ]
    },
    {
      "cell_type": "code",
      "execution_count": null,
      "metadata": {
        "colab": {
          "base_uri": "https://localhost:8080/"
        },
        "id": "PUGTJ5XRTP7W",
        "outputId": "14cbe41b-8f46-4554-8b78-5e900a78b735"
      },
      "outputs": [],
      "source": [
        "# # Download model from TF Hub and check out inference code from GitHub\n",
        "# # Model movenet\n",
        "# !wget -q -O movenet_thunder.tflite https://tfhub.dev/google/lite-model/movenet/singlepose/thunder/tflite/float16/4?lite-format=tflite\n",
        "\n",
        "# # Github tensorflow (có chứa thư viện utils, data, ml...)\n",
        "# !git clone https://github.com/tensorflow/examples.git\n"
      ]
    },
    {
      "cell_type": "markdown",
      "metadata": {
        "id": "aN-W7SEpnLoe"
      },
      "source": [
        "#### Load MoveNet Thunder model"
      ]
    },
    {
      "cell_type": "code",
      "execution_count": 7,
      "metadata": {
        "id": "48kW1c2F5l1R"
      },
      "outputs": [],
      "source": [
        "from pose_estimation import utils\n",
        "from pose_estimation.data import BodyPart\n",
        "from pose_estimation.ml import Movenet\n",
        "movenet = Movenet('movenet_thunder')\n",
        "\n",
        "# Gọi hàm nhận dạng của movenet nhiều lần để cải thiện độ chính xác nhận dạng khung xương\n",
        "def detect(input_tensor, inference_count=3):\n",
        "  \"\"\"Runs detection on an input image.\n",
        " \n",
        "  Args:\n",
        "    input_tensor: A [height, width, 3] Tensor of type tf.float32.\n",
        "    inference_count: Số lần lặp.\n",
        " \n",
        "  Returns:\n",
        "    A Person entity detected by the MoveNet.SinglePose.\n",
        "  \"\"\"\n",
        "  image_height, image_width, channel = input_tensor.shape\n",
        " \n",
        "  # Detect pose using the full input image\n",
        "  movenet.detect(input_tensor.numpy(), reset_crop_region=True)\n",
        " \n",
        "  # Repeatedly using previous detection result to identify the region of\n",
        "  # interest and only croping that region to improve detection accuracy\n",
        "  for _ in range(inference_count - 1):\n",
        "    person = movenet.detect(input_tensor.numpy(), \n",
        "                            reset_crop_region=False)\n",
        "\n",
        "\n",
        "  return person"
      ]
    },
    {
      "cell_type": "code",
      "execution_count": null,
      "metadata": {},
      "outputs": [],
      "source": [
        "imgPath = \"./Image/_/output4_0330.png\"\n",
        "image = tf.io.read_file(imgPath)\n",
        "img = tf.io.decode_jpeg(image)\n",
        "pers = detect(img)"
      ]
    },
    {
      "cell_type": "markdown",
      "metadata": {
        "id": "pNiIeG5PnUHm"
      },
      "source": [
        "#### Trực quan hoá kết quả nhận dạng khung xương"
      ]
    },
    {
      "cell_type": "code",
      "execution_count": 8,
      "metadata": {
        "id": "fKo0NzwQJ5Rm"
      },
      "outputs": [],
      "source": [
        "def draw_prediction_on_image(\n",
        "    image, person, crop_region=None, close_figure=True,\n",
        "    keep_input_size=False):\n",
        "  \"\"\"Draws the keypoint predictions on image.\n",
        " \n",
        "  Args:\n",
        "    image: An numpy array with shape [height, width, channel] representing the\n",
        "      pixel values of the input image.\n",
        "    person: A person entity returned from the MoveNet.SinglePose model.\n",
        "    close_figure: Whether to close the plt figure after the function returns.\n",
        "    keep_input_size: Whether to keep the size of the input image.\n",
        " \n",
        "  Returns:\n",
        "    An numpy array with shape [out_height, out_width, channel] representing the\n",
        "    image overlaid with keypoint predictions.\n",
        "  \"\"\"\n",
        "  # Draw the detection result on top of the image.\n",
        "  image_np = utils.visualize(image, [person])\n",
        "  \n",
        "  # Plot the image with detection results.\n",
        "  height, width, channel = image.shape\n",
        "  aspect_ratio = float(width) / height\n",
        "  fig, ax = plt.subplots(figsize=(12 * aspect_ratio, 12))\n",
        "  im = ax.imshow(image_np)\n",
        " \n",
        "  if close_figure:\n",
        "    plt.close(fig)\n",
        " \n",
        "  if not keep_input_size:\n",
        "    image_np = utils.keep_aspect_ratio_resizer(image_np, (512, 512))\n",
        "\n",
        "  return image_np"
      ]
    },
    {
      "cell_type": "markdown",
      "metadata": {
        "id": "dVn3fgInndqY"
      },
      "source": [
        "#### Code to load the images, detect pose landmarks and save them into a CSV file"
      ]
    },
    {
      "cell_type": "code",
      "execution_count": null,
      "metadata": {
        "id": "QUkOW_26S6K-"
      },
      "outputs": [],
      "source": [
        "class MoveNetPreprocessor(object): \n",
        "  def __init__(self,\n",
        "               images_in_folder,\n",
        "               images_out_folder,\n",
        "               csvs_out_path):\n",
        "    \"\"\"Creates a preprocessor to detection pose from images and save as CSV.\n",
        "\n",
        "    Args:\n",
        "      images_in_folder: Path to the folder with the input images. It has structure:\n",
        "        \n",
        "        train/test\n",
        "        |__ humpbacked\n",
        "            |______ 00000128.jpg\n",
        "            |______ 00000181.bmp\n",
        "            |______ ...\n",
        "        |__ leaning back\n",
        "            |______ 00000243.jpg\n",
        "            |______ 00000306.jpg\n",
        "            |______ ...\n",
        "        ...\n",
        "\n",
        "      images_out_folder: Path to write detected landmarks\n",
        "\n",
        "      csvs_out_path: Path to write the CSV containing the detected landmark\n",
        "        coordinates and label of each image that can be used to train a pose\n",
        "        classification model.\n",
        "    \"\"\"\n",
        "    self._images_in_folder = images_in_folder\n",
        "    self._images_out_folder = images_out_folder\n",
        "    self._csvs_out_path = csvs_out_path\n",
        "    self._messages = []\n",
        "\n",
        "    # Create a temp dir to store the pose CSVs per class\n",
        "    self._csvs_out_folder_per_class = tempfile.mkdtemp()\n",
        " \n",
        "    # Get list of pose classes\n",
        "    self._pose_class_names = sorted(\n",
        "        [n for n in os.listdir(self._images_in_folder)]\n",
        "        )\n",
        "    \n",
        "  def process(self, per_pose_class_limit=None, detection_threshold=0.1):\n",
        "    \"\"\"Preprocesses images in the given folder.\n",
        "    Args:\n",
        "      per_pose_class_limit: Number of images to load in each class directory. \n",
        "      detection_threshold: Only keep images with all landmark confidence score\n",
        "        above this threshold.\n",
        "    \"\"\"\n",
        "    # Loop through the class directory and preprocess its images\n",
        "    for pose_class_name in self._pose_class_names:\n",
        "      print('Preprocessing', pose_class_name, file=sys.stderr)\n",
        "\n",
        "      # Paths for the pose class.\n",
        "      images_in_folder = os.path.join(self._images_in_folder, pose_class_name)    # Tạo đường dẫn\n",
        "      images_out_folder = os.path.join(self._images_out_folder, pose_class_name)\n",
        "      csv_out_path = os.path.join(self._csvs_out_folder_per_class,\n",
        "                                  pose_class_name + '.csv')\n",
        "      if not os.path.exists(images_out_folder):\n",
        "        os.makedirs(images_out_folder)\n",
        " \n",
        "      # Detect landmarks in each image and write it to a CSV file\n",
        "      with open(csv_out_path, 'w') as csv_out_file:\n",
        "        csv_out_writer = csv.writer(csv_out_file, \n",
        "                                    delimiter=',', \n",
        "                                    quoting=csv.QUOTE_MINIMAL)\n",
        "        # Get list of images\n",
        "        image_names = sorted(\n",
        "            [n for n in os.listdir(images_in_folder) if not n.startswith('.')])\n",
        "        if per_pose_class_limit is not None:\n",
        "          image_names = image_names[:per_pose_class_limit]\n",
        "\n",
        "        valid_image_count = 0\n",
        " \n",
        "        # Detect pose landmarks from each image\n",
        "        for image_name in tqdm.tqdm(image_names):\n",
        "          image_path = os.path.join(images_in_folder, image_name)\n",
        "\n",
        "          try:\n",
        "            image = tf.io.read_file(image_path)\n",
        "            image = tf.io.decode_jpeg(image)\n",
        "          except:\n",
        "            self._messages.append('Skipped ' + image_path + '. Invalid image.')\n",
        "            continue\n",
        "          else:\n",
        "            image = tf.io.read_file(image_path)\n",
        "            image = tf.io.decode_jpeg(image)\n",
        "            image_height, image_width, channel = image.shape\n",
        "          \n",
        "          # Skip images that isn't RGB because Movenet requires RGB images\n",
        "          if channel != 3:\n",
        "            self._messages.append('Skipped ' + image_path +\n",
        "                                  '. Image isn\\'t in RGB format.')\n",
        "            continue\n",
        "          person = detect(image)\n",
        "          \n",
        "          # Save landmarks if all landmarks were detected\n",
        "          min_landmark_score = min(\n",
        "              [keypoint.score for keypoint in person.keypoints])\n",
        "          should_keep_image = min_landmark_score >= detection_threshold\n",
        "          if not should_keep_image:\n",
        "            self._messages.append('Skipped ' + image_path +\n",
        "                                  '. No pose was confidentlly detected.')\n",
        "            continue\n",
        "\n",
        "          valid_image_count += 1\n",
        "\n",
        "          # Draw the prediction result on top of the image for debugging later\n",
        "          output_overlay = draw_prediction_on_image(\n",
        "              image.numpy().astype(np.uint8), person, \n",
        "              close_figure=True, keep_input_size=True)\n",
        "        \n",
        "          # Write detection result into an image file\n",
        "          output_frame = cv2.cvtColor(output_overlay, cv2.COLOR_RGB2BGR)\n",
        "          cv2.imwrite(os.path.join(images_out_folder, image_name), output_frame)\n",
        "        \n",
        "          # Get landmarks and scale it to the same size as the input image\n",
        "          pose_landmarks = np.array(\n",
        "              [[keypoint.coordinate.x, keypoint.coordinate.y, keypoint.score]\n",
        "                for keypoint in person.keypoints],\n",
        "              dtype=np.float32)\n",
        "\n",
        "          # Write the landmark coordinates to its per-class CSV file\n",
        "          coordinates = pose_landmarks.flatten().astype(str).tolist()\n",
        "          csv_out_writer.writerow([image_name] + coordinates)\n",
        "\n",
        "        if not valid_image_count:\n",
        "          raise RuntimeError(\n",
        "              'No valid images found for the \"{}\" class.'\n",
        "              .format(pose_class_name))\n",
        "      \n",
        "    # Print the error message collected during preprocessing.\n",
        "    print('\\n'.join(self._messages))\n",
        "\n",
        "    # Combine all per-class CSVs into a single output file\n",
        "    all_landmarks_df = self._all_landmarks_as_dataframe()\n",
        "    all_landmarks_df.to_csv(self._csvs_out_path, index=False)\n",
        "\n",
        "  def class_names(self):\n",
        "    \"\"\"List of classes found in the training dataset.\"\"\"\n",
        "    return self._pose_class_names\n",
        "  \n",
        "  def _all_landmarks_as_dataframe(self):\n",
        "    \"\"\"Merge all per-class CSVs into a single dataframe.\"\"\"\n",
        "    total_df = None\n",
        "    for class_index, class_name in enumerate(self._pose_class_names):\n",
        "      csv_out_path = os.path.join(self._csvs_out_folder_per_class,\n",
        "                                  class_name + '.csv')\n",
        "      per_class_df = pd.read_csv(csv_out_path, header=None)\n",
        "      \n",
        "      # Add the labels\n",
        "      per_class_df['class_no'] = [class_index]*len(per_class_df)\n",
        "      per_class_df['class_name'] = [class_name]*len(per_class_df)\n",
        "\n",
        "      # Append the folder name to the filename column (first column)\n",
        "      per_class_df[per_class_df.columns[0]] = (os.path.join(class_name, '') \n",
        "        + per_class_df[per_class_df.columns[0]].astype(str))\n",
        "\n",
        "      if total_df is None:\n",
        "        # For the first class, assign its data to the total dataframe\n",
        "        total_df = per_class_df\n",
        "      else:\n",
        "        # Concatenate each class's data into the total dataframe\n",
        "        total_df = pd.concat([total_df, per_class_df], axis=0)\n",
        " \n",
        "    list_name = [[bodypart.name + '_x', bodypart.name + '_y', \n",
        "                  bodypart.name + '_score'] for bodypart in BodyPart] \n",
        "    \n",
        "    # Đổi tên cột dataframe\n",
        "    header_name = []\n",
        "    for columns_name in list_name:\n",
        "      header_name += columns_name\n",
        "    header_name = ['file_name'] + header_name\n",
        "    header_map = {total_df.columns[i]: header_name[i] \n",
        "                  for i in range(len(header_name))}\n",
        " \n",
        "    total_df.rename(header_map, axis=1, inplace=True)\n",
        "\n",
        "    return total_df"
      ]
    },
    {
      "cell_type": "markdown",
      "metadata": {
        "id": "YvA67LZDnijz"
      },
      "source": [
        "#### Test pose estimate"
      ]
    },
    {
      "cell_type": "markdown",
      "metadata": {
        "id": "L24GWhgo4WAl"
      },
      "source": [
        "# **Part 1: Preprocess the input images**"
      ]
    },
    {
      "cell_type": "markdown",
      "metadata": {
        "id": "TJXSR2CQhm-z"
      },
      "source": [
        "### Upload your own pose dataset"
      ]
    },
    {
      "cell_type": "code",
      "execution_count": null,
      "metadata": {
        "id": "iEnjgeKeS_VP"
      },
      "outputs": [],
      "source": [
        "dataset_is_split = True #@param [\"False\", \"True\"] {type:\"raw\"}"
      ]
    },
    {
      "cell_type": "markdown",
      "metadata": {
        "id": "YiqF3sRf3LLC"
      },
      "source": [
        "\n",
        "  If you've already split your dataset into train and test sets, then set `dataset_is_split` to **True**. \n",
        "  That is, your images folder must include \"train\" and \"test\" directories like this:\n",
        "```\n",
        "    sittingPoses/\n",
        "    |__ train/\n",
        "        |__ humpbacked/\n",
        "            |______ 00000128.jpg\n",
        "            |______ ...\n",
        "        |__ leaning back/\n",
        "            |______ 00000180.jpg\n",
        "            |______ ...\n",
        "    |__ test/\n",
        "        |__ leaning back/\n",
        "            |______ 00000181.jpg\n",
        "            |______ ...\n",
        "```\n",
        "\n",
        "Or, if your dataset is NOT split yet, then set\n",
        "`dataset_is_split` to **False** and we'll split it up based\n",
        "on a specified split fraction. That is, your uploaded images\n",
        "folder should look like this:\n",
        "\n",
        "```    \n",
        "    sittingPoses/\n",
        "    |__ humpbacked/\n",
        "        |______ 00000128.jpg\n",
        "        |______ 00000181.jpg\n",
        "        |______ ...\n",
        "    |__ leaning back/\n",
        "        |______ 00000243.jpg\n",
        "        |______ 00000306.jpg\n",
        "        |______ ...\n",
        "```"
      ]
    },
    {
      "cell_type": "markdown",
      "metadata": {
        "id": "BoXaN5nUeU8d"
      },
      "source": [
        "### Phân chia tập dữ liệu"
      ]
    },
    {
      "cell_type": "code",
      "execution_count": null,
      "metadata": {
        "id": "joAHy_r62dsI"
      },
      "outputs": [],
      "source": [
        "import os\n",
        "import random\n",
        "import shutil\n",
        "\n",
        "def split_into_train_test(images_origin, images_dest, test_split):\n",
        "  \"\"\"Splits a directory of sorted images into training and test sets.\n",
        "\n",
        "  Args:\n",
        "    images_origin: Path to the directory with your images. This directory\n",
        "      must include subdirectories for each of your labeled classes.\n",
        "\n",
        "    images_dest: Path to a directory where you want the split dataset to be\n",
        "      saved\n",
        "\n",
        "    test_split: Fraction of data to reserve for test (float between 0 and 1).\n",
        "  \"\"\"\n",
        "  _, dirs, _ = next(os.walk(images_origin))\n",
        "\n",
        "  TRAIN_DIR = os.path.join(images_dest, 'train')\n",
        "  TEST_DIR = os.path.join(images_dest, 'test')\n",
        "  os.makedirs(TRAIN_DIR, exist_ok=True)\n",
        "  os.makedirs(TEST_DIR, exist_ok=True)\n",
        "\n",
        "  for dir in dirs:\n",
        "    # Get all filenames for this dir, filtered by filetype\n",
        "    filenames = os.listdir(os.path.join(images_origin, dir))\n",
        "    filenames = [os.path.join(images_origin, dir, f) for f in filenames if (\n",
        "        f.endswith('.png') or f.endswith('.jpg') or f.endswith('.jpeg') or f.endswith('.bmp'))]\n",
        "    # Shuffle the files, deterministically\n",
        "    filenames.sort()\n",
        "    random.seed(42)\n",
        "    random.shuffle(filenames)\n",
        "    # Divide them into train/test dirs\n",
        "    os.makedirs(os.path.join(TEST_DIR, dir), exist_ok=True)\n",
        "    os.makedirs(os.path.join(TRAIN_DIR, dir), exist_ok=True)\n",
        "    test_count = int(len(filenames) * test_split)\n",
        "    for i, file in enumerate(filenames):\n",
        "      if i < test_count:\n",
        "        destination = os.path.join(TEST_DIR, dir, os.path.split(file)[1])\n",
        "      else:\n",
        "        destination = os.path.join(TRAIN_DIR, dir, os.path.split(file)[1])\n",
        "      shutil.copyfile(file, destination)\n",
        "    print(f'Moved {test_count} of {len(filenames)} from class \"{dir}\" into test.')\n",
        "  print(f'Your split dataset is in \"{images_dest}\"')"
      ]
    },
    {
      "cell_type": "code",
      "execution_count": null,
      "metadata": {
        "id": "IfpNIjAmR0lp"
      },
      "outputs": [],
      "source": [
        "# You can leave the rest alone:\n",
        "dataset_in = './image_new'\n",
        "if not os.path.isdir(dataset_in):\n",
        "  raise Exception(\"dataset_in is not a valid directory\")\n",
        "if dataset_is_split:\n",
        "  IMAGES_ROOT = dataset_in\n",
        "else:\n",
        "  dataset_out = dataset_in + '_split'\n",
        "  split_into_train_test(dataset_in, dataset_out, test_split=0.2)\n",
        "  IMAGES_ROOT = dataset_out"
      ]
    },
    {
      "cell_type": "markdown",
      "metadata": {
        "id": "IPkTA5-sNF7W"
      },
      "source": [
        "**Note:** If you're using `split_into_train_test()` to split the dataset, it expects all images to be PNG, JPEG, or BMP—it ignores other file types."
      ]
    },
    {
      "cell_type": "markdown",
      "metadata": {
        "id": "vxOkXvm-TvOZ"
      },
      "source": [
        "### Preprocess the `TRAIN` dataset"
      ]
    },
    {
      "cell_type": "code",
      "execution_count": 9,
      "metadata": {},
      "outputs": [],
      "source": [
        "isProcessed = True"
      ]
    },
    {
      "cell_type": "code",
      "execution_count": 10,
      "metadata": {
        "id": "OsdqxGfxTE2H"
      },
      "outputs": [],
      "source": [
        "if isProcessed: pass\n",
        "else:\n",
        "    images_in_train_folder = os.path.join(IMAGES_ROOT, 'train')\n",
        "    images_out_train_folder = 'poses_images_out_train'\n",
        "    csvs_out_train_path = 'train_data.csv'\n",
        "\n",
        "    preprocessor = MoveNetPreprocessor(\n",
        "        images_in_folder=images_in_train_folder,\n",
        "        images_out_folder=images_out_train_folder,\n",
        "        csvs_out_path=csvs_out_train_path,\n",
        "    )\n",
        "\n",
        "    preprocessor.process(per_pose_class_limit=None)"
      ]
    },
    {
      "attachments": {},
      "cell_type": "markdown",
      "metadata": {},
      "source": [
        "### Preprocess the `VALIDATE` dataset"
      ]
    },
    {
      "cell_type": "code",
      "execution_count": 11,
      "metadata": {},
      "outputs": [],
      "source": [
        "if isProcessed: pass\n",
        "else:\n",
        "    images_in_test_folder = os.path.join(IMAGES_ROOT, 'validate')\n",
        "    images_out_test_folder = 'poses_images_out_validate'\n",
        "    csvs_out_test_path = 'validate_data.csv'\n",
        "\n",
        "    preprocessor = MoveNetPreprocessor(\n",
        "        images_in_folder=images_in_test_folder,\n",
        "        images_out_folder=images_out_test_folder,\n",
        "        csvs_out_path=csvs_out_test_path,\n",
        "    )\n",
        "\n",
        "    preprocessor.process(per_pose_class_limit=None)"
      ]
    },
    {
      "cell_type": "markdown",
      "metadata": {
        "id": "cQtgAeHVT0UE"
      },
      "source": [
        "### Preprocess the `TEST` dataset"
      ]
    },
    {
      "cell_type": "code",
      "execution_count": 12,
      "metadata": {
        "id": "hddKVPjrTNbt"
      },
      "outputs": [],
      "source": [
        "images_out_test_folder = 'poses_images_out_test'\n",
        "\n",
        "if isProcessed: pass\n",
        "else:\n",
        "    images_in_test_folder = os.path.join(IMAGES_ROOT, 'test')\n",
        "    csvs_out_test_path = 'test_data.csv'\n",
        "\n",
        "    preprocessor = MoveNetPreprocessor(\n",
        "        images_in_folder=images_in_test_folder,\n",
        "        images_out_folder=images_out_test_folder,\n",
        "        csvs_out_path=csvs_out_test_path,\n",
        "    )\n",
        "\n",
        "    preprocessor.process(per_pose_class_limit=None)"
      ]
    },
    {
      "cell_type": "markdown",
      "metadata": {
        "id": "UevEKViRT_6J"
      },
      "source": [
        "# **Part 2: Train a pose classification model that takes the landmark coordinates as input, and output the predicted labels.**\n",
        "\n",
        "You'll build a TensorFlow model that takes the landmark coordinates and predicts the pose class that the person in the input image performs. The model consists of two submodels:\n",
        "\n",
        "* Submodel 1 calculates a pose embedding (a.k.a feature vector) from the detected landmark coordinates.\n",
        "* Submodel 2 feeds pose embedding through several `Dense` layer to predict the pose class.\n",
        "\n",
        "You'll then train the model based on the dataset that were preprocessed in part 1."
      ]
    },
    {
      "cell_type": "markdown",
      "metadata": {
        "id": "E2D1czPJazvb"
      },
      "source": [
        "### (Optional) Download the preprocessed dataset if you didn't run part 1"
      ]
    },
    {
      "cell_type": "code",
      "execution_count": 13,
      "metadata": {
        "colab": {
          "base_uri": "https://localhost:8080/"
        },
        "id": "ShpOD7yb4MRp",
        "outputId": "3e8d32d2-a56e-4eef-ed71-a2874eb6d9e0"
      },
      "outputs": [],
      "source": [
        "# Download the available CSV files which are the same as the output of step 1\n",
        "# !wget -O train_data.csv http://download.tensorflow.org/data/pose_classification/yoga_train_data.csv\n",
        "# !wget -O test_data.csv http://download.tensorflow.org/data/pose_classification/yoga_test_data.csv\n",
        "\n",
        "csvs_out_train_path = 'train_data.csv'\n",
        "csvs_out_test_path = 'test_data.csv'\n",
        "csvs_out_validate_path = 'validate_data.csv'\n",
        "is_skipped_step_1 = True"
      ]
    },
    {
      "cell_type": "markdown",
      "metadata": {
        "id": "iGMcoSwLwRSD"
      },
      "source": [
        "### Load the preprocessed CSVs into `train` and `test` variables"
      ]
    },
    {
      "cell_type": "code",
      "execution_count": 14,
      "metadata": {
        "id": "pOUcc8EL5rrj"
      },
      "outputs": [],
      "source": [
        "def load_pose_landmarks(csv_path):\n",
        "  \"\"\"Loads a CSV created by MoveNetPreprocessor.\n",
        "  \n",
        "  Returns:\n",
        "    X: Detected landmark coordinates and scores of shape (N, 17 * 3)\n",
        "    y: Ground truth labels of shape (N, label_count)\n",
        "    classes: The list of all class names found in the dataset\n",
        "    dataframe: The CSV loaded as a Pandas dataframe features (X) and ground\n",
        "      truth labels (y) to use later to train a pose classification model.\n",
        "  \"\"\"\n",
        "\n",
        "  # Load the CSV file\n",
        "  dataframe = pd.read_csv(csv_path)\n",
        "  df_to_process = dataframe.copy()\n",
        "\n",
        "  # Drop the file_name columns as you don't need it during training.\n",
        "  df_to_process.drop(columns=['file_name'], inplace=True)\n",
        "\n",
        "  # Extract the list of class names\n",
        "  classes = df_to_process.pop('class_name').unique()\n",
        "\n",
        "  # Extract the labels\n",
        "  y = df_to_process.pop('class_no')\n",
        "\n",
        "  # Convert the input features and labels into the correct format for training.\n",
        "  X = df_to_process.astype('float64')\n",
        "  y = keras.utils.to_categorical(y)\n",
        "\n",
        "  return X, y, classes, dataframe"
      ]
    },
    {
      "cell_type": "markdown",
      "metadata": {
        "id": "UMrLzfPz7E1U"
      },
      "source": [
        "Load and split the original `TRAIN` dataset into `TRAIN` (85% of the data) and `VALIDATE` (the remaining 15%)."
      ]
    },
    {
      "cell_type": "code",
      "execution_count": 51,
      "metadata": {
        "id": "xawmSDGXUUzW"
      },
      "outputs": [],
      "source": [
        "# Load the train data\n",
        "X_train, y_train, class_names, _ = load_pose_landmarks(csvs_out_train_path)\n",
        "\n",
        "X_val, y_val, _, _ = load_pose_landmarks(csvs_out_validate_path)\n",
        "\n",
        "# Load the test data\n",
        "X_test, y_test, _, df_test = load_pose_landmarks(csvs_out_test_path)"
      ]
    },
    {
      "cell_type": "markdown",
      "metadata": {
        "id": "ydb-bd_UWXMq"
      },
      "source": [
        "### Define functions to convert the pose landmarks to a pose embedding (a.k.a. feature vector) for pose classification\n",
        "\n",
        "Next, convert the landmark coordinates to a feature vector by:\n",
        "1. Moving the pose center to the origin.\n",
        "2. Scaling the pose so that the pose size becomes 1\n",
        "3. Flattening these coordinates into a feature vector\n",
        "\n",
        "Then use this feature vector to train a neural-network based pose classifier."
      ]
    },
    {
      "cell_type": "code",
      "execution_count": 52,
      "metadata": {
        "id": "HgQMdfeT65Z5"
      },
      "outputs": [],
      "source": [
        "def get_center_point(landmarks, left_bodypart, right_bodypart):\n",
        "    \"\"\"Calculates the center point of the two given landmarks.\"\"\"\n",
        "\n",
        "    left = tf.gather(landmarks, left_bodypart.value, axis=1)\n",
        "    right = tf.gather(landmarks, right_bodypart.value, axis=1)\n",
        "    center = left * 0.5 + right * 0.5\n",
        "    return center\n",
        "\n",
        "\n",
        "def get_pose_size(landmarks, torso_size_multiplier=2.5):\n",
        "    \"\"\"Calculates pose size.\n",
        "\n",
        "    It is the maximum of two values:\n",
        "      * Torso size multiplied by `torso_size_multiplier`\n",
        "      * Maximum distance from pose center to any pose landmark\n",
        "    \"\"\"\n",
        "    # Hips center\n",
        "    hips_center = get_center_point(landmarks, BodyPart.LEFT_HIP,\n",
        "                                   BodyPart.RIGHT_HIP)\n",
        "\n",
        "    # Shoulders center\n",
        "    shoulders_center = get_center_point(landmarks, BodyPart.LEFT_SHOULDER,\n",
        "                                        BodyPart.RIGHT_SHOULDER)\n",
        "\n",
        "    # Torso size as the minimum body size\n",
        "    torso_size = tf.linalg.norm(shoulders_center - hips_center)\n",
        "\n",
        "    # Pose center\n",
        "    pose_center_new = get_center_point(landmarks, BodyPart.LEFT_HIP,\n",
        "                                       BodyPart.RIGHT_HIP)\n",
        "    pose_center_new = tf.expand_dims(pose_center_new, axis=1)\n",
        "    # Broadcast the pose center to the same size as the landmark vector to\n",
        "    # perform substraction\n",
        "    pose_center_new = tf.broadcast_to(pose_center_new,\n",
        "                                      [tf.size(landmarks) // (17*2), 17, 2])\n",
        "\n",
        "    # Dist to pose center\n",
        "    d = tf.gather(landmarks - pose_center_new, 0, axis=0,\n",
        "                  name=\"dist_to_pose_center\")\n",
        "    # Max dist to pose center\n",
        "    max_dist = tf.reduce_max(tf.linalg.norm(d, axis=0))\n",
        "\n",
        "    # Normalize scale\n",
        "    pose_size = tf.maximum(torso_size * torso_size_multiplier, max_dist)\n",
        "\n",
        "    return pose_size\n",
        "\n",
        "\n",
        "def feature_pose(landmarks):\n",
        "    \"\"\"Normalizes the landmarks translation by moving the pose center to (0,0) and\n",
        "    scaling it to a constant pose size.\n",
        "    \"\"\"\n",
        "    pose_center = get_center_point(landmarks, BodyPart.LEFT_HIP,\n",
        "                                BodyPart.RIGHT_HIP)\n",
        "    pose_center = tf.expand_dims(pose_center, axis=1)\n",
        "    # Broadcast the pose center to the same size as the landmark vector to perform\n",
        "    # substraction\n",
        "    pose_center = tf.broadcast_to(pose_center,\n",
        "                                [tf.size(landmarks) // (17*2), 17, 2])\n",
        "    landmarks = landmarks - pose_center\n",
        "\n",
        "    # Scale the landmarks to a constant pose size\n",
        "    pose_size = get_pose_size(landmarks)\n",
        "\n",
        "    xVal = tf.gather(landmarks, BodyPart.RIGHT_KNEE.value, axis=1).numpy()[0]\n",
        "    tempList = landmarks.numpy().tolist()\n",
        "\n",
        "    if xVal[0] < 0:\n",
        "        for coordinate in tempList[0]:\n",
        "            coordinate[0] = -coordinate[0]\n",
        "        landmarks = tf.constant(tempList, dtype=np.float32)\n",
        "\n",
        "    landmarks /= pose_size\n",
        "\n",
        "    return landmarks\n",
        "\n",
        "\n",
        "def normalize_drop_score(landmarks_and_scores):\n",
        "    \"\"\"Converts the input landmarks into a pose embedding.\"\"\"\n",
        "    # Reshape the flat input into a matrix with shape=(17, 3)\n",
        "    reshaped_inputs = keras.layers.Reshape((17, 3))(landmarks_and_scores)\n",
        "\n",
        "    # Normalize landmarks 2D\n",
        "    norm_landmarks = feature_pose(reshaped_inputs[:, :, :2])\n",
        "\n",
        "    return norm_landmarks\n",
        "\n",
        "\n",
        "def angle_between_two_vector(a, b):\n",
        "    \"\"\" Returns the angle in radians between vectors 'v1' and 'v2'::\n",
        "\n",
        "            >>> angle_between((1, 0, 0), (0, 1, 0))\n",
        "            1.5707963267948966\n",
        "            >>> angle_between((1, 0, 0), (1, 0, 0))\n",
        "            0.0\n",
        "            >>> angle_between((1, 0, 0), (-1, 0, 0))\n",
        "            3.141592653589793\n",
        "    \"\"\"\n",
        "    inner = np.inner(a, b)\n",
        "    norms = LA.norm(a) * LA.norm(b)\n",
        "    cos = inner / norms\n",
        "    return np.arccos(np.clip(cos, -1.0, 1.0))\n",
        "\n",
        "\n",
        "def flatten(x):\n",
        "    return x.numpy().flatten()\n",
        "\n",
        "\n",
        "def angle_between_three_point(landmarks, bodypart1, bodypart2, bodypart3, isBodyPart=True):\n",
        "    if isBodyPart:\n",
        "        bodypart1 = tf.gather(landmarks, bodypart1.value, axis=1)\n",
        "        bodypart2 = tf.gather(landmarks, bodypart2.value, axis=1)\n",
        "        bodypart3 = tf.gather(landmarks, bodypart3.value, axis=1)\n",
        "\n",
        "    v21 = bodypart1 - bodypart2\n",
        "    v23 = bodypart3 - bodypart2\n",
        "\n",
        "    # đơn vị radian (góc đúng cả 2 bên)\n",
        "    return angle_between_two_vector(flatten(v21), flatten(v23))\n",
        "\n",
        "\n",
        "def feature_angle(landmarks):\n",
        "    center_ear = get_center_point(\n",
        "        landmarks, BodyPart.LEFT_EAR, BodyPart.RIGHT_EAR)\n",
        "    center_shoulder = get_center_point(\n",
        "        landmarks, BodyPart.LEFT_SHOULDER, BodyPart.RIGHT_SHOULDER)\n",
        "    center_hip = get_center_point(\n",
        "        landmarks, BodyPart.LEFT_HIP, BodyPart.RIGHT_HIP)\n",
        "\n",
        "    angle_ear_shoulder = angle_between_three_point(\n",
        "        landmarks, center_ear, center_shoulder, center_hip, False)\n",
        "\n",
        "    angle_left_torso_thighs = angle_between_three_point(\n",
        "        landmarks, BodyPart.LEFT_SHOULDER, BodyPart.LEFT_HIP, BodyPart.LEFT_KNEE)\n",
        "\n",
        "    angle_right_torso_thighs = angle_between_three_point(\n",
        "        landmarks, BodyPart.RIGHT_SHOULDER, BodyPart.RIGHT_HIP, BodyPart.RIGHT_KNEE)\n",
        "\n",
        "    angle_left_thighs_tibia = angle_between_three_point(\n",
        "        landmarks, BodyPart.LEFT_HIP, BodyPart.LEFT_KNEE, BodyPart.LEFT_ANKLE)\n",
        "\n",
        "    angle_right_thighs_tibia = angle_between_three_point(\n",
        "        landmarks, BodyPart.RIGHT_HIP, BodyPart.RIGHT_KNEE, BodyPart.RIGHT_ANKLE)\n",
        "    \n",
        "    backbone_vector = flatten(center_shoulder - center_hip)\n",
        "    horizontal_backbone_angle = angle_between_two_vector(backbone_vector, (1,0))\n",
        "\n",
        "    # print('angle between left torso and thighs: ',\n",
        "    #       np.rad2deg(angle_left_torso_thighs))\n",
        "\n",
        "    return [horizontal_backbone_angle*2, angle_ear_shoulder, angle_left_torso_thighs, angle_left_thighs_tibia, angle_right_torso_thighs, angle_right_thighs_tibia]\n",
        "\n",
        "\n",
        "def get_distance(landmarks, left, right):\n",
        "    left = tf.gather(landmarks, left.value, axis=1)\n",
        "    right = tf.gather(landmarks, right.value, axis=1)\n",
        "\n",
        "    vector2 = (right - left).numpy()[0] ** 2\n",
        "\n",
        "    return math.sqrt(vector2[0] + vector2[1])\n",
        "\n",
        "\n",
        "def feature_extract(landmarks):\n",
        "    landmarks = normalize_drop_score(landmarks)\n",
        "\n",
        "    \"\"\"\n",
        "    Trích đặc trưng ở đây: \n",
        "    Input: 17 điểm trên cơ thế , shape = (1, 17, 2)\n",
        "    Output: vector đặc trưng (tinh chỉnh tùy ý)\n",
        "    (1, 17, 2) -> (1, n) : Flattened layer\n",
        "    \"\"\"\n",
        "\n",
        "    # có 3 trường hợp\n",
        "    # features = feature_pose(landmarks)\n",
        "    # features = [i for i in feature_angle(landmarks)]\n",
        "    # features = feature_pose(landmarks).extend(feature_angle(landmarks))\n",
        "\n",
        "    features = feature_angle(landmarks)\n",
        "    # features = get_distance(landmarks, BodyPart.LEFT_SHOULDER, BodyPart.RIGHT_SHOULDER)\n",
        "\n",
        "    # features = \n",
        "\n",
        "    features = keras.layers.Flatten()(features)\n",
        "    return features\n"
      ]
    },
    {
      "cell_type": "code",
      "execution_count": 53,
      "metadata": {},
      "outputs": [
        {
          "data": {
            "text/plain": [
              "82.0695336684527"
            ]
          },
          "execution_count": 53,
          "metadata": {},
          "output_type": "execute_result"
        }
      ],
      "source": [
        "landmarks = tf.constant([X_train.values[0]], dtype=np.float32)\n",
        "\n",
        "landmarks = tf.reshape(landmarks, [1, 17, 3])\n",
        "landmarks = landmarks[:, :, :2]\n",
        "\n",
        "center_shoulder = get_center_point(\n",
        "    landmarks, BodyPart.LEFT_SHOULDER, BodyPart.RIGHT_SHOULDER)\n",
        "center_hip = get_center_point(\n",
        "    landmarks, BodyPart.LEFT_HIP, BodyPart.RIGHT_HIP)\n",
        "\n",
        "backbone_vector = flatten(center_shoulder - center_hip)\n",
        "\n",
        "horizontal_backbone_angle = angle_between_two_vector(backbone_vector, (1,0))\n",
        "np.rad2deg(horizontal_backbone_angle)"
      ]
    },
    {
      "cell_type": "code",
      "execution_count": 54,
      "metadata": {},
      "outputs": [
        {
          "data": {
            "text/plain": [
              "[0.07763713598251343,\n",
              " -0.34524670243263245,\n",
              " 0.0915163978934288,\n",
              " -0.35999342799186707,\n",
              " 0.05508333072066307,\n",
              " -0.35999342799186707,\n",
              " 0.10192584991455078,\n",
              " -0.34524670243263245,\n",
              " 0.015180445276200771,\n",
              " -0.3426443338394165,\n",
              " 0.09932348877191544,\n",
              " -0.236814945936203,\n",
              " -0.026457348838448524,\n",
              " -0.28625982999801636,\n",
              " 0.05074606090784073,\n",
              " 0.0034698161762207747,\n",
              " -0.05074606090784073,\n",
              " -0.0034698161762207747,\n",
              " 0.24071849882602692,\n",
              " 0.03209580108523369,\n",
              " 0.06549277901649475,\n",
              " -0.236814945936203,\n",
              " 0.2207670509815216,\n",
              " 0.26977819204330444,\n",
              " 0.0915163978934288,\n",
              " 0.0260236207395792]"
            ]
          },
          "execution_count": 54,
          "metadata": {},
          "output_type": "execute_result"
        }
      ],
      "source": [
        "test = tf.constant([X_train.values[0]], dtype=np.float32)\n",
        "\n",
        "\n",
        "test = normalize_drop_score(test).numpy().tolist()\n",
        "\n",
        "unwanted = [BodyPart.LEFT_ELBOW.value, BodyPart.RIGHT_ELBOW.value, BodyPart.LEFT_WRIST.value, BodyPart.RIGHT_WRIST.value]\n",
        "\n",
        "for index in sorted(unwanted, reverse = True): \n",
        "    del test[0][index]\n",
        "\n",
        "res = []\n",
        "\n",
        "for item in test[0]:\n",
        "    for i in item:\n",
        "        res.append(i)\n",
        "\n",
        "res"
      ]
    },
    {
      "cell_type": "code",
      "execution_count": 55,
      "metadata": {},
      "outputs": [],
      "source": [
        "def data_preprocess_single(landmarks):\n",
        "    landmarks = normalize_drop_score(landmarks)\n",
        "    feature_vector = feature_angle(landmarks)\n",
        "    feature_vector.append(get_distance(landmarks, BodyPart.LEFT_SHOULDER, BodyPart.RIGHT_SHOULDER))\n",
        "    pose = feature_pose(landmarks).numpy().tolist()\n",
        "\n",
        "    unwanted = [BodyPart.LEFT_ELBOW.value, BodyPart.RIGHT_ELBOW.value, BodyPart.LEFT_WRIST.value, BodyPart.RIGHT_WRIST.value]\n",
        "    for index in sorted(unwanted, reverse = True): \n",
        "        del pose[0][index]\n",
        "\n",
        "    wanted_point = []\n",
        "\n",
        "    for item in pose[0]:\n",
        "        for i in item:\n",
        "            wanted_point.append(i)\n",
        "\n",
        "    feature_vector.extend(wanted_point)\n",
        "    # feature_vector = feature_pose(landmarks).numpy().flatten().tolist()\n",
        "    return feature_vector\n",
        "\n",
        "def data_preprocess(X: pd.DataFrame):\n",
        "    data = X.copy()\n",
        "    listFeature = []\n",
        "    for landmark in data.values:\n",
        "        landmark = tf.constant([landmark])\n",
        "        feature = data_preprocess_single(landmark)\n",
        "        listFeature.append(feature)\n",
        "\n",
        "    return pd.DataFrame(listFeature)"
      ]
    },
    {
      "cell_type": "code",
      "execution_count": 56,
      "metadata": {},
      "outputs": [],
      "source": [
        "X_train = data_preprocess(X_train)\n",
        "X_val = data_preprocess(X_val)\n",
        "X_test = data_preprocess(X_test)"
      ]
    },
    {
      "cell_type": "code",
      "execution_count": 57,
      "metadata": {},
      "outputs": [
        {
          "data": {
            "text/html": [
              "<div>\n",
              "<style scoped>\n",
              "    .dataframe tbody tr th:only-of-type {\n",
              "        vertical-align: middle;\n",
              "    }\n",
              "\n",
              "    .dataframe tbody tr th {\n",
              "        vertical-align: top;\n",
              "    }\n",
              "\n",
              "    .dataframe thead th {\n",
              "        text-align: right;\n",
              "    }\n",
              "</style>\n",
              "<table border=\"1\" class=\"dataframe\">\n",
              "  <thead>\n",
              "    <tr style=\"text-align: right;\">\n",
              "      <th></th>\n",
              "      <th>0</th>\n",
              "      <th>1</th>\n",
              "      <th>2</th>\n",
              "      <th>3</th>\n",
              "      <th>4</th>\n",
              "      <th>5</th>\n",
              "      <th>6</th>\n",
              "      <th>7</th>\n",
              "      <th>8</th>\n",
              "      <th>9</th>\n",
              "      <th>...</th>\n",
              "      <th>23</th>\n",
              "      <th>24</th>\n",
              "      <th>25</th>\n",
              "      <th>26</th>\n",
              "      <th>27</th>\n",
              "      <th>28</th>\n",
              "      <th>29</th>\n",
              "      <th>30</th>\n",
              "      <th>31</th>\n",
              "      <th>32</th>\n",
              "    </tr>\n",
              "  </thead>\n",
              "  <tbody>\n",
              "    <tr>\n",
              "      <th>0</th>\n",
              "      <td>2.864767</td>\n",
              "      <td>3.017767</td>\n",
              "      <td>1.520879</td>\n",
              "      <td>1.636611</td>\n",
              "      <td>0.376480</td>\n",
              "      <td>0.560848</td>\n",
              "      <td>0.135150</td>\n",
              "      <td>0.077637</td>\n",
              "      <td>-0.345247</td>\n",
              "      <td>0.091516</td>\n",
              "      <td>...</td>\n",
              "      <td>-0.050746</td>\n",
              "      <td>-0.003470</td>\n",
              "      <td>0.240719</td>\n",
              "      <td>0.032096</td>\n",
              "      <td>0.065493</td>\n",
              "      <td>-0.236815</td>\n",
              "      <td>0.220767</td>\n",
              "      <td>0.269778</td>\n",
              "      <td>0.091516</td>\n",
              "      <td>0.026024</td>\n",
              "    </tr>\n",
              "    <tr>\n",
              "      <th>1</th>\n",
              "      <td>2.835046</td>\n",
              "      <td>3.071390</td>\n",
              "      <td>1.465286</td>\n",
              "      <td>1.628614</td>\n",
              "      <td>0.360169</td>\n",
              "      <td>0.563734</td>\n",
              "      <td>0.142308</td>\n",
              "      <td>0.078583</td>\n",
              "      <td>-0.345420</td>\n",
              "      <td>0.092400</td>\n",
              "      <td>...</td>\n",
              "      <td>-0.049222</td>\n",
              "      <td>-0.002591</td>\n",
              "      <td>0.240930</td>\n",
              "      <td>0.027634</td>\n",
              "      <td>0.063903</td>\n",
              "      <td>-0.240067</td>\n",
              "      <td>0.223659</td>\n",
              "      <td>0.266837</td>\n",
              "      <td>0.095854</td>\n",
              "      <td>0.026770</td>\n",
              "    </tr>\n",
              "    <tr>\n",
              "      <th>2</th>\n",
              "      <td>2.862883</td>\n",
              "      <td>2.988504</td>\n",
              "      <td>1.517344</td>\n",
              "      <td>1.636808</td>\n",
              "      <td>0.404540</td>\n",
              "      <td>0.566985</td>\n",
              "      <td>0.124234</td>\n",
              "      <td>0.083155</td>\n",
              "      <td>-0.341763</td>\n",
              "      <td>0.097087</td>\n",
              "      <td>...</td>\n",
              "      <td>-0.048326</td>\n",
              "      <td>-0.001306</td>\n",
              "      <td>0.250336</td>\n",
              "      <td>0.029170</td>\n",
              "      <td>0.082284</td>\n",
              "      <td>-0.240758</td>\n",
              "      <td>0.232921</td>\n",
              "      <td>0.273846</td>\n",
              "      <td>0.100570</td>\n",
              "      <td>0.029170</td>\n",
              "    </tr>\n",
              "    <tr>\n",
              "      <th>3</th>\n",
              "      <td>2.790302</td>\n",
              "      <td>3.132824</td>\n",
              "      <td>1.476947</td>\n",
              "      <td>1.661080</td>\n",
              "      <td>0.397247</td>\n",
              "      <td>0.600335</td>\n",
              "      <td>0.130621</td>\n",
              "      <td>0.082729</td>\n",
              "      <td>-0.342860</td>\n",
              "      <td>0.098655</td>\n",
              "      <td>...</td>\n",
              "      <td>-0.051761</td>\n",
              "      <td>-0.005751</td>\n",
              "      <td>0.254380</td>\n",
              "      <td>0.032295</td>\n",
              "      <td>0.083614</td>\n",
              "      <td>-0.236684</td>\n",
              "      <td>0.244647</td>\n",
              "      <td>0.275615</td>\n",
              "      <td>0.102194</td>\n",
              "      <td>0.027871</td>\n",
              "    </tr>\n",
              "    <tr>\n",
              "      <th>4</th>\n",
              "      <td>2.654255</td>\n",
              "      <td>3.110454</td>\n",
              "      <td>1.471950</td>\n",
              "      <td>1.707124</td>\n",
              "      <td>0.732014</td>\n",
              "      <td>0.746596</td>\n",
              "      <td>0.131241</td>\n",
              "      <td>0.107741</td>\n",
              "      <td>-0.362761</td>\n",
              "      <td>0.124545</td>\n",
              "      <td>...</td>\n",
              "      <td>-0.051399</td>\n",
              "      <td>-0.009884</td>\n",
              "      <td>0.283685</td>\n",
              "      <td>0.055353</td>\n",
              "      <td>0.142337</td>\n",
              "      <td>-0.155187</td>\n",
              "      <td>0.268858</td>\n",
              "      <td>0.315315</td>\n",
              "      <td>0.104776</td>\n",
              "      <td>0.050411</td>\n",
              "    </tr>\n",
              "    <tr>\n",
              "      <th>...</th>\n",
              "      <td>...</td>\n",
              "      <td>...</td>\n",
              "      <td>...</td>\n",
              "      <td>...</td>\n",
              "      <td>...</td>\n",
              "      <td>...</td>\n",
              "      <td>...</td>\n",
              "      <td>...</td>\n",
              "      <td>...</td>\n",
              "      <td>...</td>\n",
              "      <td>...</td>\n",
              "      <td>...</td>\n",
              "      <td>...</td>\n",
              "      <td>...</td>\n",
              "      <td>...</td>\n",
              "      <td>...</td>\n",
              "      <td>...</td>\n",
              "      <td>...</td>\n",
              "      <td>...</td>\n",
              "      <td>...</td>\n",
              "      <td>...</td>\n",
              "    </tr>\n",
              "    <tr>\n",
              "      <th>3092</th>\n",
              "      <td>3.138634</td>\n",
              "      <td>3.053758</td>\n",
              "      <td>1.978200</td>\n",
              "      <td>1.786723</td>\n",
              "      <td>1.937732</td>\n",
              "      <td>1.759149</td>\n",
              "      <td>0.006033</td>\n",
              "      <td>0.072214</td>\n",
              "      <td>-0.352838</td>\n",
              "      <td>0.059492</td>\n",
              "      <td>...</td>\n",
              "      <td>-0.002619</td>\n",
              "      <td>0.003367</td>\n",
              "      <td>0.198682</td>\n",
              "      <td>0.081942</td>\n",
              "      <td>0.207662</td>\n",
              "      <td>0.084187</td>\n",
              "      <td>0.159769</td>\n",
              "      <td>0.279502</td>\n",
              "      <td>0.170245</td>\n",
              "      <td>0.291475</td>\n",
              "    </tr>\n",
              "    <tr>\n",
              "      <th>3093</th>\n",
              "      <td>3.171002</td>\n",
              "      <td>3.025351</td>\n",
              "      <td>1.969107</td>\n",
              "      <td>1.777335</td>\n",
              "      <td>1.952353</td>\n",
              "      <td>1.747000</td>\n",
              "      <td>0.009032</td>\n",
              "      <td>0.070508</td>\n",
              "      <td>-0.353663</td>\n",
              "      <td>0.056256</td>\n",
              "      <td>...</td>\n",
              "      <td>-0.002250</td>\n",
              "      <td>0.004125</td>\n",
              "      <td>0.198021</td>\n",
              "      <td>0.076883</td>\n",
              "      <td>0.204022</td>\n",
              "      <td>0.081384</td>\n",
              "      <td>0.160517</td>\n",
              "      <td>0.276405</td>\n",
              "      <td>0.167268</td>\n",
              "      <td>0.280905</td>\n",
              "    </tr>\n",
              "    <tr>\n",
              "      <th>3094</th>\n",
              "      <td>3.147332</td>\n",
              "      <td>3.033642</td>\n",
              "      <td>1.963661</td>\n",
              "      <td>1.756070</td>\n",
              "      <td>1.942999</td>\n",
              "      <td>1.722185</td>\n",
              "      <td>0.007997</td>\n",
              "      <td>0.069794</td>\n",
              "      <td>-0.353797</td>\n",
              "      <td>0.055687</td>\n",
              "      <td>...</td>\n",
              "      <td>-0.000742</td>\n",
              "      <td>0.003341</td>\n",
              "      <td>0.187850</td>\n",
              "      <td>0.076105</td>\n",
              "      <td>0.199730</td>\n",
              "      <td>0.078333</td>\n",
              "      <td>0.144786</td>\n",
              "      <td>0.272123</td>\n",
              "      <td>0.157408</td>\n",
              "      <td>0.280290</td>\n",
              "    </tr>\n",
              "    <tr>\n",
              "      <th>3095</th>\n",
              "      <td>3.156342</td>\n",
              "      <td>3.017329</td>\n",
              "      <td>1.988878</td>\n",
              "      <td>1.794122</td>\n",
              "      <td>1.948927</td>\n",
              "      <td>1.756406</td>\n",
              "      <td>0.006059</td>\n",
              "      <td>0.071019</td>\n",
              "      <td>-0.352088</td>\n",
              "      <td>0.055988</td>\n",
              "      <td>...</td>\n",
              "      <td>-0.003382</td>\n",
              "      <td>0.003382</td>\n",
              "      <td>0.195771</td>\n",
              "      <td>0.080037</td>\n",
              "      <td>0.202535</td>\n",
              "      <td>0.083795</td>\n",
              "      <td>0.158195</td>\n",
              "      <td>0.279942</td>\n",
              "      <td>0.164207</td>\n",
              "      <td>0.286705</td>\n",
              "    </tr>\n",
              "    <tr>\n",
              "      <th>3096</th>\n",
              "      <td>3.127016</td>\n",
              "      <td>3.027435</td>\n",
              "      <td>1.959633</td>\n",
              "      <td>1.781946</td>\n",
              "      <td>1.931516</td>\n",
              "      <td>1.739867</td>\n",
              "      <td>0.010433</td>\n",
              "      <td>0.062168</td>\n",
              "      <td>-0.353160</td>\n",
              "      <td>0.063666</td>\n",
              "      <td>...</td>\n",
              "      <td>-0.002996</td>\n",
              "      <td>0.003371</td>\n",
              "      <td>0.197740</td>\n",
              "      <td>0.079770</td>\n",
              "      <td>0.207477</td>\n",
              "      <td>0.082766</td>\n",
              "      <td>0.158791</td>\n",
              "      <td>0.279757</td>\n",
              "      <td>0.168528</td>\n",
              "      <td>0.283502</td>\n",
              "    </tr>\n",
              "  </tbody>\n",
              "</table>\n",
              "<p>3097 rows × 33 columns</p>\n",
              "</div>"
            ],
            "text/plain": [
              "            0         1         2         3         4         5         6   \\\n",
              "0     2.864767  3.017767  1.520879  1.636611  0.376480  0.560848  0.135150   \n",
              "1     2.835046  3.071390  1.465286  1.628614  0.360169  0.563734  0.142308   \n",
              "2     2.862883  2.988504  1.517344  1.636808  0.404540  0.566985  0.124234   \n",
              "3     2.790302  3.132824  1.476947  1.661080  0.397247  0.600335  0.130621   \n",
              "4     2.654255  3.110454  1.471950  1.707124  0.732014  0.746596  0.131241   \n",
              "...        ...       ...       ...       ...       ...       ...       ...   \n",
              "3092  3.138634  3.053758  1.978200  1.786723  1.937732  1.759149  0.006033   \n",
              "3093  3.171002  3.025351  1.969107  1.777335  1.952353  1.747000  0.009032   \n",
              "3094  3.147332  3.033642  1.963661  1.756070  1.942999  1.722185  0.007997   \n",
              "3095  3.156342  3.017329  1.988878  1.794122  1.948927  1.756406  0.006059   \n",
              "3096  3.127016  3.027435  1.959633  1.781946  1.931516  1.739867  0.010433   \n",
              "\n",
              "            7         8         9   ...        23        24        25  \\\n",
              "0     0.077637 -0.345247  0.091516  ... -0.050746 -0.003470  0.240719   \n",
              "1     0.078583 -0.345420  0.092400  ... -0.049222 -0.002591  0.240930   \n",
              "2     0.083155 -0.341763  0.097087  ... -0.048326 -0.001306  0.250336   \n",
              "3     0.082729 -0.342860  0.098655  ... -0.051761 -0.005751  0.254380   \n",
              "4     0.107741 -0.362761  0.124545  ... -0.051399 -0.009884  0.283685   \n",
              "...        ...       ...       ...  ...       ...       ...       ...   \n",
              "3092  0.072214 -0.352838  0.059492  ... -0.002619  0.003367  0.198682   \n",
              "3093  0.070508 -0.353663  0.056256  ... -0.002250  0.004125  0.198021   \n",
              "3094  0.069794 -0.353797  0.055687  ... -0.000742  0.003341  0.187850   \n",
              "3095  0.071019 -0.352088  0.055988  ... -0.003382  0.003382  0.195771   \n",
              "3096  0.062168 -0.353160  0.063666  ... -0.002996  0.003371  0.197740   \n",
              "\n",
              "            26        27        28        29        30        31        32  \n",
              "0     0.032096  0.065493 -0.236815  0.220767  0.269778  0.091516  0.026024  \n",
              "1     0.027634  0.063903 -0.240067  0.223659  0.266837  0.095854  0.026770  \n",
              "2     0.029170  0.082284 -0.240758  0.232921  0.273846  0.100570  0.029170  \n",
              "3     0.032295  0.083614 -0.236684  0.244647  0.275615  0.102194  0.027871  \n",
              "4     0.055353  0.142337 -0.155187  0.268858  0.315315  0.104776  0.050411  \n",
              "...        ...       ...       ...       ...       ...       ...       ...  \n",
              "3092  0.081942  0.207662  0.084187  0.159769  0.279502  0.170245  0.291475  \n",
              "3093  0.076883  0.204022  0.081384  0.160517  0.276405  0.167268  0.280905  \n",
              "3094  0.076105  0.199730  0.078333  0.144786  0.272123  0.157408  0.280290  \n",
              "3095  0.080037  0.202535  0.083795  0.158195  0.279942  0.164207  0.286705  \n",
              "3096  0.079770  0.207477  0.082766  0.158791  0.279757  0.168528  0.283502  \n",
              "\n",
              "[3097 rows x 33 columns]"
            ]
          },
          "execution_count": 57,
          "metadata": {},
          "output_type": "execute_result"
        }
      ],
      "source": [
        "X_train"
      ]
    },
    {
      "cell_type": "code",
      "execution_count": 58,
      "metadata": {},
      "outputs": [],
      "source": [
        "# test = tf.constant([X_train.values[0]])\n",
        "# landmarks = normalize_drop_score(test)\n",
        "\n",
        "# # data_preprocess(landmarks)\n",
        "# # feature_angle(landmarks)\n",
        "# get_distance(landmarks, BodyPart.LEFT_SHOULDER, BodyPart.RIGHT_SHOULDER)"
      ]
    },
    {
      "cell_type": "markdown",
      "metadata": {
        "id": "PI7Wb3Bagau3"
      },
      "source": [
        "### Define a Keras model for pose classification\n",
        "\n",
        "Our Keras model takes the detected pose landmarks, then calculates the pose embedding and predicts the pose class."
      ]
    },
    {
      "cell_type": "code",
      "execution_count": 65,
      "metadata": {
        "id": "1Pte6b1bgWKv"
      },
      "outputs": [
        {
          "name": "stdout",
          "output_type": "stream",
          "text": [
            "Model: \"model_4\"\n",
            "_________________________________________________________________\n",
            " Layer (type)                Output Shape              Param #   \n",
            "=================================================================\n",
            " input_5 (InputLayer)        [(None, 33)]              0         \n",
            "                                                                 \n",
            " dense_12 (Dense)            (None, 64)                2176      \n",
            "                                                                 \n",
            " dropout_8 (Dropout)         (None, 64)                0         \n",
            "                                                                 \n",
            " dense_13 (Dense)            (None, 32)                2080      \n",
            "                                                                 \n",
            " dropout_9 (Dropout)         (None, 32)                0         \n",
            "                                                                 \n",
            " dense_14 (Dense)            (None, 7)                 231       \n",
            "                                                                 \n",
            "=================================================================\n",
            "Total params: 4,487\n",
            "Trainable params: 4,487\n",
            "Non-trainable params: 0\n",
            "_________________________________________________________________\n"
          ]
        }
      ],
      "source": [
        "# Define the model\n",
        "inputs = tf.keras.Input(shape=(33))\n",
        "\n",
        "layer = keras.layers.Dense(64, activation=tf.nn.relu6)(inputs)\n",
        "layer = keras.layers.Dropout(0.5)(layer)\n",
        "layer = keras.layers.Dense(32, activation=tf.nn.relu6)(layer)\n",
        "layer = keras.layers.Dropout(0.5)(layer)\n",
        "outputs = keras.layers.Dense(len(class_names), activation=\"softmax\")(layer)\n",
        "\n",
        "model = tf.keras.Model(inputs, outputs)\n",
        "\n",
        "model.summary()"
      ]
    },
    {
      "cell_type": "code",
      "execution_count": 66,
      "metadata": {
        "id": "5ZuMwd7Ugtsa"
      },
      "outputs": [
        {
          "name": "stdout",
          "output_type": "stream",
          "text": [
            "Epoch 1/200\n",
            "180/194 [==========================>...] - ETA: 0s - loss: 1.9665 - accuracy: 0.2267\n",
            "Epoch 1: val_accuracy improved from -inf to 0.48394, saving model to weights.best.hdf5\n",
            "194/194 [==============================] - 2s 4ms/step - loss: 1.9457 - accuracy: 0.2335 - val_loss: 1.5977 - val_accuracy: 0.4839\n",
            "Epoch 2/200\n",
            "191/194 [============================>.] - ETA: 0s - loss: 1.4405 - accuracy: 0.4385\n",
            "Epoch 2: val_accuracy improved from 0.48394 to 0.54070, saving model to weights.best.hdf5\n",
            "194/194 [==============================] - 1s 4ms/step - loss: 1.4375 - accuracy: 0.4385 - val_loss: 1.2111 - val_accuracy: 0.5407\n",
            "Epoch 3/200\n",
            "186/194 [===========================>..] - ETA: 0s - loss: 1.1689 - accuracy: 0.5427\n",
            "Epoch 3: val_accuracy improved from 0.54070 to 0.76624, saving model to weights.best.hdf5\n",
            "194/194 [==============================] - 1s 4ms/step - loss: 1.1624 - accuracy: 0.5441 - val_loss: 1.0108 - val_accuracy: 0.7662\n",
            "Epoch 4/200\n",
            "184/194 [===========================>..] - ETA: 0s - loss: 1.0139 - accuracy: 0.5842\n",
            "Epoch 4: val_accuracy improved from 0.76624 to 0.78417, saving model to weights.best.hdf5\n",
            "194/194 [==============================] - 1s 5ms/step - loss: 1.0155 - accuracy: 0.5870 - val_loss: 0.9195 - val_accuracy: 0.7842\n",
            "Epoch 5/200\n",
            "188/194 [============================>.] - ETA: 0s - loss: 0.8966 - accuracy: 0.6416\n",
            "Epoch 5: val_accuracy did not improve from 0.78417\n",
            "194/194 [==============================] - 1s 5ms/step - loss: 0.8949 - accuracy: 0.6419 - val_loss: 0.8361 - val_accuracy: 0.6975\n",
            "Epoch 6/200\n",
            "179/194 [==========================>...] - ETA: 0s - loss: 0.7967 - accuracy: 0.7004\n",
            "Epoch 6: val_accuracy did not improve from 0.78417\n",
            "194/194 [==============================] - 1s 4ms/step - loss: 0.7984 - accuracy: 0.6991 - val_loss: 0.8130 - val_accuracy: 0.7476\n",
            "Epoch 7/200\n",
            "170/194 [=========================>....] - ETA: 0s - loss: 0.7211 - accuracy: 0.7287\n",
            "Epoch 7: val_accuracy did not improve from 0.78417\n",
            "194/194 [==============================] - 1s 4ms/step - loss: 0.7140 - accuracy: 0.7317 - val_loss: 0.7595 - val_accuracy: 0.7065\n",
            "Epoch 8/200\n",
            "191/194 [============================>.] - ETA: 0s - loss: 0.6418 - accuracy: 0.7628\n",
            "Epoch 8: val_accuracy did not improve from 0.78417\n",
            "194/194 [==============================] - 1s 4ms/step - loss: 0.6404 - accuracy: 0.7630 - val_loss: 0.8250 - val_accuracy: 0.7274\n",
            "Epoch 9/200\n",
            "177/194 [==========================>...] - ETA: 0s - loss: 0.5953 - accuracy: 0.7722\n",
            "Epoch 9: val_accuracy did not improve from 0.78417\n",
            "194/194 [==============================] - 1s 4ms/step - loss: 0.5947 - accuracy: 0.7711 - val_loss: 0.7210 - val_accuracy: 0.7005\n",
            "Epoch 10/200\n",
            "179/194 [==========================>...] - ETA: 0s - loss: 0.5459 - accuracy: 0.8041\n",
            "Epoch 10: val_accuracy did not improve from 0.78417\n",
            "194/194 [==============================] - 1s 4ms/step - loss: 0.5440 - accuracy: 0.8059 - val_loss: 0.6588 - val_accuracy: 0.7610\n",
            "Epoch 11/200\n",
            "181/194 [==========================>...] - ETA: 0s - loss: 0.5044 - accuracy: 0.8142\n",
            "Epoch 11: val_accuracy did not improve from 0.78417\n",
            "194/194 [==============================] - 1s 4ms/step - loss: 0.5109 - accuracy: 0.8121 - val_loss: 0.7957 - val_accuracy: 0.7072\n",
            "Epoch 12/200\n",
            "180/194 [==========================>...] - ETA: 0s - loss: 0.4931 - accuracy: 0.8201\n",
            "Epoch 12: val_accuracy did not improve from 0.78417\n",
            "194/194 [==============================] - 1s 4ms/step - loss: 0.4906 - accuracy: 0.8221 - val_loss: 0.6888 - val_accuracy: 0.7110\n",
            "Epoch 13/200\n",
            "190/194 [============================>.] - ETA: 0s - loss: 0.4508 - accuracy: 0.8395\n",
            "Epoch 13: val_accuracy did not improve from 0.78417\n",
            "194/194 [==============================] - 1s 4ms/step - loss: 0.4494 - accuracy: 0.8402 - val_loss: 0.7186 - val_accuracy: 0.7491\n",
            "Epoch 14/200\n",
            "170/194 [=========================>....] - ETA: 0s - loss: 0.4605 - accuracy: 0.8228\n",
            "Epoch 14: val_accuracy did not improve from 0.78417\n",
            "194/194 [==============================] - 1s 4ms/step - loss: 0.4554 - accuracy: 0.8266 - val_loss: 0.8662 - val_accuracy: 0.7087\n",
            "Epoch 15/200\n",
            "194/194 [==============================] - ETA: 0s - loss: 0.4094 - accuracy: 0.8489\n",
            "Epoch 15: val_accuracy did not improve from 0.78417\n",
            "194/194 [==============================] - 1s 5ms/step - loss: 0.4094 - accuracy: 0.8489 - val_loss: 0.7467 - val_accuracy: 0.7491\n",
            "Epoch 16/200\n",
            "180/194 [==========================>...] - ETA: 0s - loss: 0.3924 - accuracy: 0.8490\n",
            "Epoch 16: val_accuracy did not improve from 0.78417\n",
            "194/194 [==============================] - 1s 4ms/step - loss: 0.3905 - accuracy: 0.8518 - val_loss: 0.7924 - val_accuracy: 0.7050\n",
            "Epoch 17/200\n",
            "191/194 [============================>.] - ETA: 0s - loss: 0.3779 - accuracy: 0.8524\n",
            "Epoch 17: val_accuracy did not improve from 0.78417\n",
            "194/194 [==============================] - 1s 3ms/step - loss: 0.3774 - accuracy: 0.8524 - val_loss: 0.8840 - val_accuracy: 0.7573\n",
            "Epoch 18/200\n",
            "182/194 [===========================>..] - ETA: 0s - loss: 0.3658 - accuracy: 0.8551\n",
            "Epoch 18: val_accuracy did not improve from 0.78417\n",
            "194/194 [==============================] - 1s 4ms/step - loss: 0.3642 - accuracy: 0.8553 - val_loss: 0.9777 - val_accuracy: 0.7289\n",
            "Epoch 19/200\n",
            "191/194 [============================>.] - ETA: 0s - loss: 0.3539 - accuracy: 0.8642\n",
            "Epoch 19: val_accuracy improved from 0.78417 to 0.80358, saving model to weights.best.hdf5\n",
            "194/194 [==============================] - 1s 5ms/step - loss: 0.3559 - accuracy: 0.8631 - val_loss: 0.8181 - val_accuracy: 0.8036\n",
            "Epoch 20/200\n",
            "191/194 [============================>.] - ETA: 0s - loss: 0.3432 - accuracy: 0.8694\n",
            "Epoch 20: val_accuracy did not improve from 0.80358\n",
            "194/194 [==============================] - 1s 4ms/step - loss: 0.3442 - accuracy: 0.8696 - val_loss: 0.8133 - val_accuracy: 0.7879\n",
            "Epoch 21/200\n",
            "174/194 [=========================>....] - ETA: 0s - loss: 0.3357 - accuracy: 0.8660\n",
            "Epoch 21: val_accuracy did not improve from 0.80358\n",
            "194/194 [==============================] - 1s 4ms/step - loss: 0.3373 - accuracy: 0.8641 - val_loss: 0.8758 - val_accuracy: 0.7633\n",
            "Epoch 22/200\n",
            "170/194 [=========================>....] - ETA: 0s - loss: 0.3281 - accuracy: 0.8750\n",
            "Epoch 22: val_accuracy did not improve from 0.80358\n",
            "194/194 [==============================] - 1s 4ms/step - loss: 0.3246 - accuracy: 0.8786 - val_loss: 0.9312 - val_accuracy: 0.7423\n",
            "Epoch 23/200\n",
            "177/194 [==========================>...] - ETA: 0s - loss: 0.3104 - accuracy: 0.8817\n",
            "Epoch 23: val_accuracy did not improve from 0.80358\n",
            "194/194 [==============================] - 1s 4ms/step - loss: 0.3083 - accuracy: 0.8834 - val_loss: 1.0466 - val_accuracy: 0.7125\n",
            "Epoch 24/200\n",
            "186/194 [===========================>..] - ETA: 0s - loss: 0.3083 - accuracy: 0.8747\n",
            "Epoch 24: val_accuracy did not improve from 0.80358\n",
            "194/194 [==============================] - 1s 4ms/step - loss: 0.3079 - accuracy: 0.8747 - val_loss: 1.0946 - val_accuracy: 0.7177\n",
            "Epoch 25/200\n",
            "193/194 [============================>.] - ETA: 0s - loss: 0.3136 - accuracy: 0.8841\n",
            "Epoch 25: val_accuracy did not improve from 0.80358\n",
            "194/194 [==============================] - 1s 3ms/step - loss: 0.3136 - accuracy: 0.8841 - val_loss: 1.0557 - val_accuracy: 0.7543\n",
            "Epoch 26/200\n",
            "185/194 [===========================>..] - ETA: 0s - loss: 0.2998 - accuracy: 0.8841\n",
            "Epoch 26: val_accuracy did not improve from 0.80358\n",
            "194/194 [==============================] - 1s 4ms/step - loss: 0.2978 - accuracy: 0.8844 - val_loss: 1.0239 - val_accuracy: 0.7386\n",
            "Epoch 27/200\n",
            "169/194 [=========================>....] - ETA: 0s - loss: 0.2867 - accuracy: 0.8883\n",
            "Epoch 27: val_accuracy did not improve from 0.80358\n",
            "194/194 [==============================] - 1s 4ms/step - loss: 0.2873 - accuracy: 0.8889 - val_loss: 0.9687 - val_accuracy: 0.7356\n",
            "Epoch 28/200\n",
            "178/194 [==========================>...] - ETA: 0s - loss: 0.2948 - accuracy: 0.8883\n",
            "Epoch 28: val_accuracy did not improve from 0.80358\n",
            "194/194 [==============================] - 1s 3ms/step - loss: 0.2928 - accuracy: 0.8883 - val_loss: 0.9977 - val_accuracy: 0.7237\n",
            "Epoch 29/200\n",
            "173/194 [=========================>....] - ETA: 0s - loss: 0.2761 - accuracy: 0.8988\n",
            "Epoch 29: val_accuracy did not improve from 0.80358\n",
            "194/194 [==============================] - 1s 3ms/step - loss: 0.2743 - accuracy: 0.8996 - val_loss: 1.2383 - val_accuracy: 0.6796\n",
            "Epoch 30/200\n",
            "175/194 [==========================>...] - ETA: 0s - loss: 0.2784 - accuracy: 0.8964\n",
            "Epoch 30: val_accuracy did not improve from 0.80358\n",
            "194/194 [==============================] - 1s 3ms/step - loss: 0.2727 - accuracy: 0.8999 - val_loss: 1.0546 - val_accuracy: 0.6811\n",
            "Epoch 31/200\n",
            "191/194 [============================>.] - ETA: 0s - loss: 0.2641 - accuracy: 0.9015\n",
            "Epoch 31: val_accuracy did not improve from 0.80358\n",
            "194/194 [==============================] - 1s 4ms/step - loss: 0.2654 - accuracy: 0.9015 - val_loss: 1.2376 - val_accuracy: 0.6945\n",
            "Epoch 32/200\n",
            "192/194 [============================>.] - ETA: 0s - loss: 0.2700 - accuracy: 0.8991\n",
            "Epoch 32: val_accuracy did not improve from 0.80358\n",
            "194/194 [==============================] - 1s 3ms/step - loss: 0.2694 - accuracy: 0.8996 - val_loss: 1.2967 - val_accuracy: 0.6856\n",
            "Epoch 33/200\n",
            "176/194 [==========================>...] - ETA: 0s - loss: 0.2430 - accuracy: 0.9141\n",
            "Epoch 33: val_accuracy did not improve from 0.80358\n",
            "194/194 [==============================] - 1s 4ms/step - loss: 0.2467 - accuracy: 0.9138 - val_loss: 1.2826 - val_accuracy: 0.6804\n",
            "Epoch 34/200\n",
            "190/194 [============================>.] - ETA: 0s - loss: 0.2544 - accuracy: 0.9062\n",
            "Epoch 34: val_accuracy did not improve from 0.80358\n",
            "194/194 [==============================] - 1s 4ms/step - loss: 0.2546 - accuracy: 0.9064 - val_loss: 1.3511 - val_accuracy: 0.6789\n",
            "Epoch 35/200\n",
            "180/194 [==========================>...] - ETA: 0s - loss: 0.2276 - accuracy: 0.9125\n",
            "Epoch 35: val_accuracy did not improve from 0.80358\n",
            "194/194 [==============================] - 1s 4ms/step - loss: 0.2319 - accuracy: 0.9119 - val_loss: 1.4717 - val_accuracy: 0.6677\n",
            "Epoch 36/200\n",
            "176/194 [==========================>...] - ETA: 0s - loss: 0.2625 - accuracy: 0.9055\n",
            "Epoch 36: val_accuracy did not improve from 0.80358\n",
            "194/194 [==============================] - 1s 4ms/step - loss: 0.2609 - accuracy: 0.9064 - val_loss: 1.2334 - val_accuracy: 0.7222\n",
            "Epoch 37/200\n",
            "190/194 [============================>.] - ETA: 0s - loss: 0.2442 - accuracy: 0.9102\n",
            "Epoch 37: val_accuracy did not improve from 0.80358\n",
            "194/194 [==============================] - 1s 4ms/step - loss: 0.2439 - accuracy: 0.9106 - val_loss: 1.2398 - val_accuracy: 0.7311\n",
            "Epoch 38/200\n",
            "186/194 [===========================>..] - ETA: 0s - loss: 0.2355 - accuracy: 0.9183\n",
            "Epoch 38: val_accuracy did not improve from 0.80358\n",
            "194/194 [==============================] - 1s 3ms/step - loss: 0.2343 - accuracy: 0.9190 - val_loss: 1.4369 - val_accuracy: 0.6856\n",
            "Epoch 39/200\n",
            "191/194 [============================>.] - ETA: 0s - loss: 0.2464 - accuracy: 0.9123\n",
            "Epoch 39: val_accuracy did not improve from 0.80358\n",
            "194/194 [==============================] - 1s 4ms/step - loss: 0.2458 - accuracy: 0.9125 - val_loss: 1.6499 - val_accuracy: 0.6766\n"
          ]
        }
      ],
      "source": [
        "model.compile(\n",
        "    optimizer='adam',\n",
        "    loss='categorical_crossentropy',\n",
        "    metrics=['accuracy']\n",
        ")\n",
        "\n",
        "# Add a checkpoint callback to store the checkpoint that has the highest\n",
        "# validation accuracy.\n",
        "checkpoint_path = \"weights.best.hdf5\"\n",
        "checkpoint = keras.callbacks.ModelCheckpoint(checkpoint_path,\n",
        "                             monitor='val_accuracy',\n",
        "                             verbose=1,\n",
        "                             save_best_only=True,\n",
        "                             mode='max')\n",
        "earlystopping = keras.callbacks.EarlyStopping(monitor='val_accuracy', \n",
        "                                              patience=20)\n",
        "\n",
        "# Start training\n",
        "history = model.fit(X_train, y_train,\n",
        "                    epochs=200,\n",
        "                    batch_size=16,\n",
        "                    validation_data=(X_val, y_val),\n",
        "                    callbacks=[checkpoint, earlystopping])"
      ]
    },
    {
      "cell_type": "code",
      "execution_count": 67,
      "metadata": {
        "id": "pNVqmd2JO6Rp"
      },
      "outputs": [
        {
          "data": {
            "image/png": "[encoded data removed]",
            "text/plain": [
              "<Figure size 640x480 with 1 Axes>"
            ]
          },
          "metadata": {},
          "output_type": "display_data"
        }
      ],
      "source": [
        "# Visualize the training history to see whether you're overfitting.\n",
        "plt.plot(history.history['accuracy'])\n",
        "plt.plot(history.history['val_accuracy'])\n",
        "plt.title('Model accuracy')\n",
        "plt.ylabel('accuracy')\n",
        "plt.xlabel('epoch')\n",
        "plt.legend(['TRAIN', 'VAL'], loc='lower right')\n",
        "plt.show()"
      ]
    },
    {
      "cell_type": "code",
      "execution_count": 68,
      "metadata": {
        "id": "m_byMBVQgyQm"
      },
      "outputs": [
        {
          "name": "stdout",
          "output_type": "stream",
          "text": [
            "39/39 [==============================] - 0s 2ms/step - loss: 0.2025 - accuracy: 0.9080\n"
          ]
        }
      ],
      "source": [
        "# Evaluate the model using the TEST dataset\n",
        "loss, accuracy = model.evaluate(X_test, y_test)"
      ]
    },
    {
      "cell_type": "markdown",
      "metadata": {
        "id": "JPnPmwjn9452"
      },
      "source": [
        "### Draw the confusion matrix to better understand the model performance"
      ]
    },
    {
      "cell_type": "code",
      "execution_count": 69,
      "metadata": {
        "id": "CJuVw7gygyyd"
      },
      "outputs": [
        {
          "name": "stdout",
          "output_type": "stream",
          "text": [
            "39/39 [==============================] - 0s 2ms/step\n",
            "Confusion matrix, without normalization\n",
            "\n",
            "Classification Report:\n",
            "                precision    recall  f1-score   support\n",
            "\n",
            "     Gac chan       0.96      0.99      0.98       182\n",
            "      Gu lung       1.00      0.88      0.93       179\n",
            "     Nga lung       1.00      0.56      0.72       187\n",
            "Nghieng nguoi       0.69      0.99      0.82       187\n",
            "     Ngoi xom       1.00      0.97      0.98       177\n",
            "      Ngu gat       0.86      1.00      0.92       108\n",
            "   Thang lung       0.98      1.00      0.99       197\n",
            "\n",
            "     accuracy                           0.91      1217\n",
            "    macro avg       0.93      0.91      0.91      1217\n",
            " weighted avg       0.93      0.91      0.90      1217\n",
            "\n"
          ]
        },
        {
          "data": {
            "image/png": "[encoded data removed]",
            "text/plain": [
              "<Figure size 640x480 with 2 Axes>"
            ]
          },
          "metadata": {},
          "output_type": "display_data"
        }
      ],
      "source": [
        "def plot_confusion_matrix(cm, classes,\n",
        "                          normalize=False,\n",
        "                          title='Confusion matrix',\n",
        "                          cmap=plt.cm.Blues):\n",
        "  \"\"\"Plots the confusion matrix.\"\"\"\n",
        "  if normalize:\n",
        "    cm = cm.astype('float') / cm.sum(axis=1)[:, np.newaxis]\n",
        "    print(\"Normalized confusion matrix\")\n",
        "  else:\n",
        "    print('Confusion matrix, without normalization')\n",
        "\n",
        "  plt.imshow(cm, interpolation='nearest', cmap=cmap)\n",
        "  plt.title(title)\n",
        "  plt.colorbar()\n",
        "  tick_marks = np.arange(len(classes))\n",
        "  plt.xticks(tick_marks, classes, rotation=55)\n",
        "  plt.yticks(tick_marks, classes)\n",
        "  fmt = '.2f' if normalize else 'd'\n",
        "  thresh = cm.max() / 2.\n",
        "  for i, j in itertools.product(range(cm.shape[0]), range(cm.shape[1])):\n",
        "    plt.text(j, i, format(cm[i, j], fmt),\n",
        "              horizontalalignment=\"center\",\n",
        "              color=\"white\" if cm[i, j] > thresh else \"black\")\n",
        "\n",
        "  plt.ylabel('True label')\n",
        "  plt.xlabel('Predicted label')\n",
        "  plt.tight_layout()\n",
        "\n",
        "# Classify pose in the TEST dataset using the trained model\n",
        "y_pred = model.predict(X_test)\n",
        "\n",
        "# Convert the prediction result to class name\n",
        "y_pred_label = [class_names[i] for i in np.argmax(y_pred, axis=1)]\n",
        "y_true_label = [class_names[i] for i in np.argmax(y_test, axis=1)]\n",
        "\n",
        "# Plot the confusion matrix\n",
        "cm = confusion_matrix(np.argmax(y_test, axis=1), np.argmax(y_pred, axis=1))\n",
        "plot_confusion_matrix(cm,\n",
        "                      class_names,\n",
        "                      title ='Confusion Matrix of Pose Classification Model')\n",
        "\n",
        "# Print the classification report\n",
        "print('\\nClassification Report:\\n', classification_report(y_true_label,\n",
        "                                                          y_pred_label))"
      ]
    },
    {
      "cell_type": "markdown",
      "metadata": {
        "id": "YPmtRf79GkCa"
      },
      "source": [
        "### (Optional) Investigate incorrect predictions\n",
        "\n",
        "You can look at the poses from the `TEST` dataset that were incorrectly predicted to see whether the model accuracy can be improved.\n",
        "\n",
        "Note: This only works if you have run step 1 because you need the pose image files on your local machine to display them."
      ]
    },
    {
      "cell_type": "code",
      "execution_count": 70,
      "metadata": {
        "id": "bdJdwOkFGonK"
      },
      "outputs": [
        {
          "ename": "error",
          "evalue": "OpenCV(4.7.0) D:\\a\\opencv-python\\opencv-python\\opencv\\modules\\imgproc\\src\\color.cpp:182: error: (-215:Assertion failed) !_src.empty() in function 'cv::cvtColor'\n",
          "output_type": "error",
          "traceback": [
            "\u001b[1;31m---------------------------------------------------------------------------\u001b[0m",
            "\u001b[1;31merror\u001b[0m                                     Traceback (most recent call last)",
            "Cell \u001b[1;32mIn[70], line 25\u001b[0m\n\u001b[0;32m     22\u001b[0m   image \u001b[39m=\u001b[39m cv2\u001b[39m.\u001b[39mimread(image_path)\n\u001b[0;32m     23\u001b[0m   plt\u001b[39m.\u001b[39mtitle(\u001b[39m\"\u001b[39m\u001b[39mPredict: \u001b[39m\u001b[39m%s\u001b[39;00m\u001b[39m; Actual: \u001b[39m\u001b[39m%s\u001b[39;00m\u001b[39m\"\u001b[39m\n\u001b[0;32m     24\u001b[0m             \u001b[39m%\u001b[39m (y_pred_label[id_in_df], y_true_label[id_in_df]))\n\u001b[1;32m---> 25\u001b[0m   plt\u001b[39m.\u001b[39mimshow(cv2\u001b[39m.\u001b[39;49mcvtColor(image, cv2\u001b[39m.\u001b[39;49mCOLOR_BGR2RGB))\n\u001b[0;32m     26\u001b[0m plt\u001b[39m.\u001b[39mshow()\n",
            "\u001b[1;31merror\u001b[0m: OpenCV(4.7.0) D:\\a\\opencv-python\\opencv-python\\opencv\\modules\\imgproc\\src\\color.cpp:182: error: (-215:Assertion failed) !_src.empty() in function 'cv::cvtColor'\n"
          ]
        },
        {
          "data": {
            "image/png": "[encoded data removed]",
            "text/plain": [
              "<Figure size 3000x11000 with 1 Axes>"
            ]
          },
          "metadata": {},
          "output_type": "display_data"
        }
      ],
      "source": [
        "# if is_skip_step_1:\n",
        "#   raise RuntimeError('You must have run step 1 to run this cell.')\n",
        "\n",
        "# If step 1 was skipped, skip this step.\n",
        "IMAGE_PER_ROW = 3\n",
        "MAX_NO_OF_IMAGE_TO_PLOT = 30\n",
        "\n",
        "# Extract the list of incorrectly predicted poses\n",
        "false_predict = [id_in_df for id_in_df in range(len(y_test)) \n",
        "                if y_pred_label[id_in_df] != y_true_label[id_in_df]]\n",
        "if len(false_predict) > MAX_NO_OF_IMAGE_TO_PLOT:\n",
        "  false_predict = false_predict[:MAX_NO_OF_IMAGE_TO_PLOT]\n",
        "\n",
        "# Plot the incorrectly predicted images\n",
        "row_count = len(false_predict) // IMAGE_PER_ROW + 1\n",
        "fig = plt.figure(figsize=(10 * IMAGE_PER_ROW, 10 * row_count))\n",
        "for i, id_in_df in enumerate(false_predict):\n",
        "  ax = fig.add_subplot(row_count, IMAGE_PER_ROW, i + 1)\n",
        "  image_path = os.path.join(images_out_test_folder,\n",
        "                            df_test.iloc[id_in_df]['file_name'])\n",
        "\n",
        "  image = cv2.imread(image_path)\n",
        "  plt.title(\"Predict: %s; Actual: %s\"\n",
        "            % (y_pred_label[id_in_df], y_true_label[id_in_df]))\n",
        "  plt.imshow(cv2.cvtColor(image, cv2.COLOR_BGR2RGB))\n",
        "plt.show()"
      ]
    },
    {
      "cell_type": "markdown",
      "metadata": {
        "id": "uhY0VeDkFK7W"
      },
      "source": [
        "# **Part 3: Convert the pose classification model to TensorFlow Lite**\n",
        "\n",
        "You'll convert the Keras pose classification model to the TensorFlow Lite format so that you can deploy it to mobile apps, web browsers and edge devices. When converting the model, you'll apply [dynamic range quantization](https://www.tensorflow.org/lite/performance/post_training_quant) to reduce the pose classification TensorFlow Lite model size by about 4 times with insignificant accuracy loss.\n",
        "\n",
        "Note: TensorFlow Lite supports multiple quantization schemes. See the [documentation](https://www.tensorflow.org/lite/performance/model_optimization) if you are interested to learn more."
      ]
    },
    {
      "cell_type": "code",
      "execution_count": null,
      "metadata": {
        "id": "FmwEAgi2Flb3"
      },
      "outputs": [
        {
          "name": "stderr",
          "output_type": "stream",
          "text": [
            "WARNING:absl:Found untraced functions such as _update_step_xla while saving (showing 1 of 1). These functions will not be directly callable after loading.\n"
          ]
        },
        {
          "name": "stdout",
          "output_type": "stream",
          "text": [
            "INFO:tensorflow:Assets written to: C:\\Users\\DELL\\AppData\\Local\\Temp\\tmpkvw42hup\\assets\n"
          ]
        },
        {
          "name": "stderr",
          "output_type": "stream",
          "text": [
            "INFO:tensorflow:Assets written to: C:\\Users\\DELL\\AppData\\Local\\Temp\\tmpkvw42hup\\assets\n"
          ]
        },
        {
          "name": "stdout",
          "output_type": "stream",
          "text": [
            "Model size: 16KB\n"
          ]
        }
      ],
      "source": [
        "converter = tf.lite.TFLiteConverter.from_keras_model(model)\n",
        "converter.optimizations = [tf.lite.Optimize.DEFAULT]\n",
        "tflite_model = converter.convert()\n",
        "\n",
        "print('Model size: %dKB' % (len(tflite_model) / 1024))\n",
        "\n",
        "with open('pose_classifier.tflite', 'wb') as f:\n",
        "  f.write(tflite_model)"
      ]
    },
    {
      "cell_type": "markdown",
      "metadata": {
        "id": "XUOQwuBP6jMH"
      },
      "source": [
        "Then you'll write the label file which contains mapping from the class indexes to the human readable class names."
      ]
    },
    {
      "cell_type": "code",
      "execution_count": null,
      "metadata": {
        "id": "ZVW9j5vF6hBM"
      },
      "outputs": [],
      "source": [
        "with open('pose_labels.txt', 'w') as f:\n",
        "  f.write('\\n'.join(class_names))"
      ]
    },
    {
      "cell_type": "markdown",
      "metadata": {
        "id": "H4T0HFGCve-Y"
      },
      "source": [
        "As you've applied quantization to reduce the model size, let's evaluate the quantized TFLite model to check whether the accuracy drop is acceptable."
      ]
    },
    {
      "cell_type": "code",
      "execution_count": null,
      "metadata": {
        "id": "rv4fZFNcsN-1"
      },
      "outputs": [
        {
          "name": "stdout",
          "output_type": "stream",
          "text": [
            "Accuracy of TFLite model: 0.9104354971240756\n"
          ]
        }
      ],
      "source": [
        "def evaluate_model(interpreter, X, y_true):\n",
        "  \"\"\"Evaluates the given TFLite model and return its accuracy.\"\"\"\n",
        "  input_index = interpreter.get_input_details()[0][\"index\"]\n",
        "  output_index = interpreter.get_output_details()[0][\"index\"]\n",
        "\n",
        "  # Run predictions on all given poses.\n",
        "  y_pred = []\n",
        "  for i in range(len(y_true)):\n",
        "    # Pre-processing: add batch dimension and convert to float32 to match with\n",
        "    # the model's input data format.\n",
        "    test_image = X[i: i + 1].astype('float32')\n",
        "    interpreter.set_tensor(input_index, test_image)\n",
        "\n",
        "    # Run inference.\n",
        "    interpreter.invoke()\n",
        "\n",
        "    # Post-processing: remove batch dimension and find the class with highest\n",
        "    # probability.\n",
        "    output = interpreter.tensor(output_index)\n",
        "    predicted_label = np.argmax(output()[0])\n",
        "    y_pred.append(predicted_label)\n",
        "\n",
        "  # Compare prediction results with ground truth labels to calculate accuracy.\n",
        "  y_pred = keras.utils.to_categorical(y_pred)\n",
        "  return accuracy_score(y_true, y_pred)\n",
        "\n",
        "# Evaluate the accuracy of the converted TFLite model\n",
        "classifier_interpreter = tf.lite.Interpreter(model_content=tflite_model)\n",
        "classifier_interpreter.allocate_tensors()\n",
        "print('Accuracy of TFLite model: %s' %\n",
        "      evaluate_model(classifier_interpreter, X_test, y_test))"
      ]
    },
    {
      "cell_type": "markdown",
      "metadata": {
        "id": "-HWqcersePiY"
      },
      "source": [
        "Now you can download the TFLite model (`pose_classifier.tflite`) and the label file (`pose_labels.txt`) to classify custom poses. See the [Android](https://github.com/tensorflow/examples/tree/master/lite/examples/pose_estimation/android) and [Python/Raspberry Pi](https://github.com/tensorflow/examples/tree/master/lite/examples/pose_estimation/raspberry_pi) sample app for an end-to-end example of how to use the TFLite pose classification model."
      ]
    },
    {
      "cell_type": "code",
      "execution_count": null,
      "metadata": {
        "id": "KvcM_LkApOT3"
      },
      "outputs": [
        {
          "name": "stderr",
          "output_type": "stream",
          "text": [
            "'zip' is not recognized as an internal or external command,\n",
            "operable program or batch file.\n"
          ]
        }
      ],
      "source": [
        "!zip pose_classifier.zip pose_labels.txt pose_classifier.tflite"
      ]
    },
    {
      "cell_type": "code",
      "execution_count": null,
      "metadata": {
        "id": "VQ-i27VypI1u"
      },
      "outputs": [],
      "source": [
        "# Download the zip archive if running on Colab.\n",
        "try:\n",
        "  from google.colab import files\n",
        "  files.download('pose_classifier.zip')\n",
        "except:\n",
        "  pass"
      ]
    }
  ],
  "metadata": {
    "colab": {
      "collapsed_sections": [
        "IfQ3xP6-EY5r",
        "Jpy4A1Vpi9jH",
        "dH_yWnJ9QRLs",
        "aN-W7SEpnLoe",
        "pNiIeG5PnUHm",
        "dVn3fgInndqY",
        "YvA67LZDnijz",
        "L24GWhgo4WAl",
        "TJXSR2CQhm-z",
        "BoXaN5nUeU8d",
        "vxOkXvm-TvOZ",
        "cQtgAeHVT0UE",
        "UevEKViRT_6J",
        "E2D1czPJazvb",
        "iGMcoSwLwRSD",
        "ydb-bd_UWXMq",
        "PI7Wb3Bagau3",
        "JPnPmwjn9452",
        "uhY0VeDkFK7W"
      ],
      "provenance": []
    },
    "gpuClass": "standard",
    "kernelspec": {
      "display_name": "Python 3",
      "name": "python3"
    },
    "language_info": {
      "codemirror_mode": {
        "name": "ipython",
        "version": 3
      },
      "file_extension": ".py",
      "mimetype": "text/x-python",
      "name": "python",
      "nbconvert_exporter": "python",
      "pygments_lexer": "ipython3",
      "version": "3.10.11"
    }
  },
  "nbformat": 4,
  "nbformat_minor": 0
}
